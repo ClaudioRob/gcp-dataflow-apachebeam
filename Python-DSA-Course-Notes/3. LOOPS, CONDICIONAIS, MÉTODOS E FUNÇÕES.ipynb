{
 "cells": [
  {
   "cell_type": "markdown",
   "metadata": {},
   "source": [
    "# 3.loops, condicionais, métodos e funções\n",
    "\n",
    "## 3.1 Condicionais\n",
    "São ifs\n",
    "\"Caso isso aconteceça, execute essa ação\"  \n",
    "Estruturas simples:  "
   ]
  },
  {
   "cell_type": "code",
   "execution_count": null,
   "metadata": {},
   "outputs": [],
   "source": [
    "if (\"Python\" == \"python\"):\n",
    "    print(1)\n",
    "else:\n",
    "    print(2)"
   ]
  },
  {
   "cell_type": "markdown",
   "metadata": {},
   "source": [
    "Estrutura com Elif"
   ]
  },
  {
   "cell_type": "code",
   "execution_count": null,
   "metadata": {},
   "outputs": [],
   "source": [
    "if (\"Python\" == \"python\"):\n",
    "    print(1)\n",
    "elif (\"Python\" == \"pYthon\"):\n",
    "    print(2)\n",
    "else: \n",
    "    print(0)"
   ]
  },
  {
   "cell_type": "markdown",
   "metadata": {},
   "source": [
    "* Precisa sempre ter : depois da expressão;  \n",
    "* Expressão não precisa estar entre parênteses;  \n",
    "* a ação da expressão DEVE estar indentada. Faz parte da sintaxe;  \n",
    "* Dentro do if, ele sempre espera um resultado booleano = TRUE ou FALSE; \n",
    "\n",
    "## 3.2 Condicionais Alinhados:    \n",
    "Quando quero checkar mais de uma variável se ela é verdadeira. If sobre if.  "
   ]
  },
  {
   "cell_type": "code",
   "execution_count": null,
   "metadata": {},
   "outputs": [],
   "source": [
    "Nome = \"Bob\"\n",
    "idade = 14\n",
    "if idade > 13:\n",
    " if Nome == \"Bob\":\n",
    "   print(\"Ok Bob, você está autorizado a entrar!\")\n",
    " else:\n",
    "   print(\"Desculpe, mas você não pode entrar!\")"
   ]
  },
  {
   "cell_type": "markdown",
   "metadata": {},
   "source": [
    "Ou, dá pra usar operador lógico = or, and..."
   ]
  },
  {
   "cell_type": "code",
   "execution_count": null,
   "metadata": {},
   "outputs": [],
   "source": [
    "idade = 13\n",
    "Nome = \"Bob\"\n",
    "if idade >= 13 and Nome == \"Bob\":\n",
    "    print(\"Ok Bob, você está autorizado a entrar!\")"
   ]
  },
  {
   "cell_type": "markdown",
   "metadata": {},
   "source": [
    "**ELIF**  \n",
    "Usado quando quero múltiplos ifs, facilitando o uso de if sobre if."
   ]
  },
  {
   "cell_type": "code",
   "execution_count": null,
   "metadata": {},
   "outputs": [],
   "source": [
    "dia = \"Quarta\"\n",
    "if dia == \"Segunda\":\n",
    "  print(\"Hoje fará sol!\")\n",
    "elif dia == \"Terça\":\n",
    "  print(\"Hoje vai chover!\")\n",
    "else:\n",
    "  print(\"Sem previsão do tempo para o dia selecionado\")"
   ]
  },
  {
   "cell_type": "markdown",
   "metadata": {},
   "source": [
    "**OPERADORES LÓGICOS**  \n",
    "Pode-se usar mais de um operador lógico dentro de uma clausula if.  \n",
    "Também é possível usar a função input() para que uma variável seja definida baseada em um parâmetro entrado pelo usuário:  \n",
    "* input() = usuário define paramêtro  \n",
    "* %s e %(Nome_da_variável) = %s chama o valor atribuído a variável disciplina, nesse caso. "
   ]
  },
  {
   "cell_type": "code",
   "execution_count": null,
   "metadata": {},
   "outputs": [],
   "source": [
    "disciplina = input('Nome da disciplina: ')\n",
    "nota_final = input('Sua nota final: ')\n",
    "\n",
    "if disciplina == 'Geografia' or 'Português' and nota_final >= '70':\n",
    "    print('Parabéns, você foi aprovado em %s' %(disciplina))\n",
    "elif disciplina == 'Matemática' and nota_final >= '80':\n",
    "    print('Parabéns, você foi aprovado em %s' %(disciplina))\n",
    "else:\n",
    "    print('Infelizmente você foi reprovado em %s' %(disciplina))"
   ]
  },
  {
   "cell_type": "markdown",
   "metadata": {},
   "source": [
    "## 3.3 Estruturas de Loops  \n",
    "**For** = Valida cada item de uma série de valores  \n",
    "ex:   \n",
    "**for** item **in** [série de valores]:    \n",
    "(indent)Executar estes comandos.  \n",
    "\n",
    "item é uma vairável, que pode inclusive ser referenciada em um if dentro do loop;   \n",
    "A série de valores pode ser:  \n",
    "* Strings  \n",
    "* Listas  \n",
    "* Tuplas  \n",
    "* Elementos de dicionários  \n",
    "* Arquivos"
   ]
  },
  {
   "cell_type": "code",
   "execution_count": null,
   "metadata": {},
   "outputs": [],
   "source": [
    "# Criando uma tupla e imprimindo cada um dos valores\n",
    "tp = (\"Cassio\",\"vic\")\n",
    "for nome in tp:\n",
    "    print(nome)"
   ]
  },
  {
   "cell_type": "code",
   "execution_count": null,
   "metadata": {},
   "outputs": [],
   "source": [
    "# Imprimindo os valores no intervalo entre 0 e 5 (exclusive)\n",
    "for contador in range(0,11):\n",
    "    print(contador)"
   ]
  },
  {
   "cell_type": "code",
   "execution_count": null,
   "metadata": {},
   "outputs": [],
   "source": [
    "# Imprimindo na tela os números pares da lista de números\n",
    "lista = [1,2,3,4,5,6,7,8,9,10,11,12]\n",
    "for num in lista:\n",
    "    if num %2 == 0:\n",
    "        print (num)"
   ]
  },
  {
   "cell_type": "code",
   "execution_count": null,
   "metadata": {},
   "outputs": [],
   "source": [
    "# Listando os números no intervalo entre 0 e 101, com incremento em 2\n",
    "for i in range(0,10,2):  \n",
    "    print(i)"
   ]
  },
  {
   "cell_type": "markdown",
   "metadata": {},
   "source": [
    "**Loops Alinhados**  \n",
    "São loops dentro de loops:\n",
    "No loop abaixo, printando a variável numero_sec que vai de 0 a 4, de acordo com a variável numero_princ, que vai 9 vezes.  \n",
    "Então, vou printar 0,1,2,3,4 , 10 vezes"
   ]
  },
  {
   "cell_type": "code",
   "execution_count": null,
   "metadata": {},
   "outputs": [],
   "source": [
    "# Loops aninhados\n",
    "for numero_princ in range(0,10):\n",
    "    for numero_sec in range(0,5):\n",
    "        print(numero_sec)"
   ]
  },
  {
   "cell_type": "markdown",
   "metadata": {},
   "source": [
    "No loop abaixo, criei a variável universal soma_receita zerada, depois para receita na lista, eu multipliquei pela margem de lucro de 10%, depois somei o lucro (variável local, só existe nesse loop) e salvei ao mesmo tempo sobre a variavel soma_receita usando +="
   ]
  },
  {
   "cell_type": "code",
   "execution_count": null,
   "metadata": {},
   "outputs": [],
   "source": [
    "# Operando os valores de uma lista com loop for\n",
    "lista_receita = [200,100,300]\n",
    "soma_receita = 0\n",
    "for receita in lista_receita:\n",
    "    lucro = receita * 0.1\n",
    "    soma_receita += lucro\n",
    "    \n",
    "print(soma_receita)"
   ]
  },
  {
   "cell_type": "code",
   "execution_count": null,
   "metadata": {},
   "outputs": [],
   "source": [
    "# Loops em lista de listas\n",
    "# Cada lista é um valor\n",
    "listas = [[1,2,3], [10,15,14], [10.1,8.7,2.3]]\n",
    "for valor in listas:\n",
    "    print(valor)"
   ]
  },
  {
   "cell_type": "code",
   "execution_count": null,
   "metadata": {},
   "outputs": [],
   "source": [
    "# Contando o número de colunas\n",
    "lst = [[1,2,3],[3,4,5],[5,6,7]]\n",
    "primeira_linha = lst[0]\n",
    "count = 0\n",
    "for column in primeira_linha:\n",
    "    count = count + 1\n",
    "    \n",
    "print(count)"
   ]
  },
  {
   "cell_type": "code",
   "execution_count": null,
   "metadata": {},
   "outputs": [],
   "source": [
    "# Pesquisando em listas\n",
    "dict_idade = [10,18,20]\n",
    "for idade in dict_idade:\n",
    "    if idade >= 18:\n",
    "        print(idade)"
   ]
  },
  {
   "cell_type": "code",
   "execution_count": null,
   "metadata": {},
   "outputs": [],
   "source": [
    "# Listando as chaves de um dicionário\n",
    "dict = {'k1':'Python','k2':'R','k3':'Scala'}\n",
    "for item in dict:\n",
    "    print(item)"
   ]
  },
  {
   "cell_type": "code",
   "execution_count": null,
   "metadata": {},
   "outputs": [],
   "source": [
    "# Pesquisando em listas\n",
    "listaC = [5, 6, 7, 10, 50]\n",
    "\n",
    "# Loop através da lista\n",
    "for item in listaC:\n",
    "    if item == 1:\n",
    "        print(\"Número encontrado na lista!\")\n",
    "    else:\n",
    "        print(\"Número não encontrado!\")"
   ]
  },
  {
   "cell_type": "markdown",
   "metadata": {},
   "source": [
    "**WHILE**\n",
    "Forma mais comum de executar  iteranções.  \n",
    "estrutura:  \n",
    "while (expressão1):  \n",
    "____print(\"comando executando caso a expressão 1 seja verdadeira\")"
   ]
  },
  {
   "cell_type": "code",
   "execution_count": null,
   "metadata": {},
   "outputs": [],
   "source": [
    "# Usando o loop while para imprimir os valores de 0 a 9\n",
    "counter = 0 # Define o contador\n",
    "while counter < 10: # Define até quando fica loop\n",
    "    print(counter) # Chama a variável\n",
    "    counter = counter + 1 # Chama a função que limita e calcula"
   ]
  },
  {
   "cell_type": "code",
   "execution_count": null,
   "metadata": {},
   "outputs": [],
   "source": [
    "# Também é possível usar a claúsula else para encerrar o loop while\n",
    "x = 0\n",
    "\n",
    "while x < 10:\n",
    "    # printa o calor do count atual e indica o resultado atual\n",
    "    print ('O valor de x nesta iteração é: ', x) \n",
    "    print (' x ainda é menor que 10, somando 1 a x')\n",
    "    # Soma e salva na variável x\n",
    "    x += 1\n",
    "    \n",
    "else:\n",
    "    # Quando acaba\n",
    "    print ('Loop concluído!')"
   ]
  },
  {
   "cell_type": "markdown",
   "metadata": {},
   "source": [
    "**Pass, Break, Continue**  \n",
    "* break = se resultado igual a variável, para o loop  \n",
    "* continue = se resultado igual a variavel, pula a função  \n",
    "* pass = contrário do break, se for igual, aprova (ou se for diferente, em um else)"
   ]
  },
  {
   "cell_type": "code",
   "execution_count": null,
   "metadata": {},
   "outputs": [],
   "source": [
    "counter = 0\n",
    "while counter < 10:\n",
    "    if counter == 11:\n",
    "        break\n",
    "    else:\n",
    "        pass\n",
    "    print(counter)\n",
    "    counter = counter + 1"
   ]
  },
  {
   "cell_type": "code",
   "execution_count": null,
   "metadata": {},
   "outputs": [],
   "source": [
    "for verificador in \"Python\":\n",
    "    if verificador == \"o\":\n",
    "        continue\n",
    "    elif verificador == \"n\":\n",
    "        continue\n",
    "    print(verificador)"
   ]
  },
  {
   "cell_type": "markdown",
   "metadata": {},
   "source": [
    "**While e For juntos**"
   ]
  },
  {
   "cell_type": "code",
   "execution_count": 1,
   "metadata": {},
   "outputs": [
    {
     "output_type": "stream",
     "name": "stdout",
     "text": [
      "1 é um número primo\n2 é um número primo\n3 é um número primo\n5 é um número primo\n7 é um número primo\n11 é um número primo\n13 é um número primo\n17 é um número primo\n19 é um número primo\n23 é um número primo\n29 é um número primo\n"
     ]
    }
   ],
   "source": [
    "# para cada número (i) entre 2 e 30\n",
    "for i in range(1,30):\n",
    "# Atribuo o valor as variáveis j e counter\n",
    "    j = 2\n",
    "    counter = 0\n",
    "# Enquanto j for menor que i\n",
    "    while j < i:\n",
    "# e também a diferença da divisão de i por j for zero        \n",
    "        if i % j == 0:\n",
    "# counter receber o valor de 1 e j recebe j + 1        \n",
    "            counter = 1\n",
    "            j = j + 1\n",
    "# Se a diferença da divisão de i por j for difente de 0        \n",
    "        else:\n",
    "# j recebe o valor de j + 1        \n",
    "            j = j + 1\n",
    "# depois, se o counter ainda for 0, eu printo ele como um num primo    \n",
    "    if counter == 0:\n",
    "        print(str(i) + \" é um número primo\")\n",
    "# e redefino counter como zero        \n",
    "        counter = 0\n",
    "# e se counter for maior que 0, ele não é primo e eu só redefino counter pra 0    \n",
    "    else:\n",
    "        counter = 0"
   ]
  },
  {
   "cell_type": "markdown",
   "metadata": {},
   "source": [
    "**Range**  \n",
    "permite repetir um conjunto de elementos, um número de vezes.   \n",
    "sintaxe:  \n",
    "range([start], [stop], [step]).  \n",
    "* Start = número que se inicia  \n",
    "* stop = número que termina  \n",
    "* step = diferença entre os números do range ( se 2, vai pegar um número a cada 2, ous seja, 1,3,5,7,8...)  \n",
    "\n"
   ]
  },
  {
   "cell_type": "code",
   "execution_count": null,
   "metadata": {},
   "outputs": [],
   "source": [
    "# Imprimindo números pares entre 50 e 101\n",
    "for i in range(50, 101, 2):\n",
    "    print(i)"
   ]
  },
  {
   "cell_type": "code",
   "execution_count": null,
   "metadata": {},
   "outputs": [],
   "source": [
    "# Imprimir uma lista, 1 por 1\n",
    "lista = [\"Cassio\", \"Lindo\"]\n",
    "lista_len = len(lista)\n",
    "for nome in range (0, lista_len):\n",
    "    print(lista[nome])"
   ]
  },
  {
   "cell_type": "markdown",
   "metadata": {},
   "source": [
    "# EXERCÍCIOS\n",
    "Exercícios - Loops e Condiconais"
   ]
  },
  {
   "cell_type": "code",
   "execution_count": null,
   "metadata": {},
   "outputs": [],
   "source": [
    "# Exercício 1 - Crie uma estrutura que pergunte ao usuário qual o dia da semana. Se o dia for igual a Domingo ou \n",
    "# igual a sábado, imprima na tela \"Hoje é dia de descanso\", caso contrário imprima na tela \"Você precisa trabalhar!\"\n",
    "\n",
    "# Exercício 2 - Crie uma lista de 5 frutas e verifique se a fruta 'Morango' faz parte da lista\n",
    "\n",
    "\n",
    "# Exercício 3 - Crie uma tupla de 4 elementos, multiplique cada elemento da tupla por 2 e guarde os resultados em uma \n",
    "# lista\n",
    "\n",
    "# Exercício 4 - Crie uma sequência de números pares entre 100 e 150 e imprima na tela\n",
    "\n",
    "# Exercício 5 - Crie uma variável chamada temperatura e atribua o valor 40. Enquanto temperatura for maior que 35, \n",
    "# imprima as temperaturas na tela\n",
    "\n",
    "    \n",
    "# Exercício 6 - Crie uma variável chamada contador = 0. Enquanto counter for menor que 100, imprima os valores na tela,\n",
    "# mas quando for encontrado o valor 23, interrompa a execução do programa\n",
    "  \n",
    "# Exercício 7 - Crie uma lista vazia e uma variável com valor 4. Enquanto o valor da variável for menor ou igual a 20, \n",
    "# adicione à lista, apenas os valores pares e imprima a lista\n",
    "\n",
    "# Exercício 8 - Transforme o resultado desta função range em uma lista: range(5, 45, 2)\n",
    "\n",
    "# Exercício 9 - Faça a correção dos erros no código abaixo e execute o programa. Dica: são 3 erros.\n",
    "\n",
    "# Exercício 10 - Faça um programa que conte quantas vezes a letra \"r\" aparece na frase abaixo. Use um placeholder na \n",
    "# sua instrução de impressão\n",
    "\n",
    "# “É melhor, muito melhor, contentar-se com a realidade; se ela não é tão brilhante como os sonhos, tem pelo menos a \n",
    "# vantagem de existir.” (Machado de Assis)\n"
   ]
  },
  {
   "cell_type": "markdown",
   "metadata": {},
   "source": [
    "## 3.4 Métodos:  \n",
    "são funcções incorporadas em objetos  \n",
    "Cria-se métodos com programação orientada a objetos.  \n",
    "Os métodos são executados da seguinte forma:  \n",
    "        objeto.método(arg1,arg2,arg3...)  \n",
    "* Para ver métodos disponíveis para um objeto,, use TAB;  \n",
    " "
   ]
  },
  {
   "cell_type": "code",
   "execution_count": null,
   "metadata": {},
   "outputs": [],
   "source": [
    "lista = []\n",
    "#poem o cursor ao lado do . e pressiona TAB\n",
    "#lista."
   ]
  },
  {
   "cell_type": "markdown",
   "metadata": {},
   "source": [
    "* Os métodos disponíveis para uma por exemplo: append,count, extend, insert, pop, remove, reverse, sort... "
   ]
  },
  {
   "cell_type": "code",
   "execution_count": null,
   "metadata": {},
   "outputs": [],
   "source": [
    "# Criando uma lista\n",
    "lst = [100, -2, 12, 65, 0]"
   ]
  },
  {
   "cell_type": "code",
   "execution_count": null,
   "metadata": {},
   "outputs": [],
   "source": [
    "# Usando um método do objeto lista\n",
    "lst.append(10)"
   ]
  },
  {
   "cell_type": "code",
   "execution_count": null,
   "metadata": {},
   "outputs": [],
   "source": [
    "# Imprimindo a lista\n",
    "lst"
   ]
  },
  {
   "cell_type": "code",
   "execution_count": null,
   "metadata": {},
   "outputs": [],
   "source": [
    "# Usando um método do objeto lista\n",
    "lst.count(10)"
   ]
  },
  {
   "cell_type": "code",
   "execution_count": null,
   "metadata": {},
   "outputs": [],
   "source": [
    "# A função help() explica como utilizar cada método de um objeto\n",
    "help(lst.count)"
   ]
  },
  {
   "cell_type": "code",
   "execution_count": null,
   "metadata": {},
   "outputs": [],
   "source": [
    "# A função dir() mostra todos os métodos e atributos de um objeto\n",
    "dir(lst)"
   ]
  },
  {
   "cell_type": "code",
   "execution_count": null,
   "metadata": {},
   "outputs": [],
   "source": [
    "a = 'Isso é uma string'"
   ]
  },
  {
   "cell_type": "code",
   "execution_count": null,
   "metadata": {},
   "outputs": [],
   "source": [
    "# O método de um objeto pode ser chamado dentro de uma função, como print()\n",
    "print (a.split())"
   ]
  },
  {
   "cell_type": "markdown",
   "metadata": {},
   "source": [
    "## 3.4 FUNÇÕES:  \n",
    "Usadas para evitar repitir partes do código diversas vezes.  \n",
    "\"Função é um dispositivo que agrupa um conjunto de instruções para executar mais de uma vez. Também permitem espcificar parâmetros que podem servir de entrada para as funções.\"   \n",
    "\n",
    "Em um nível mais básico, usamos as funções para repetir determinadas ações. EX: usar len() para contar comprimento de strings. Poderiamos criar a nossa própria função para isso.  \n",
    "\n",
    "O formato de uma função é:  "
   ]
  },
  {
   "cell_type": "code",
   "execution_count": null,
   "metadata": {},
   "outputs": [],
   "source": [
    "def nome_da_funcao():\n",
    "    \"Comentários e documentação da função\"\n",
    "    <Codigo>\n",
    "    <Retorno desejado pela função>"
   ]
  },
  {
   "cell_type": "code",
   "execution_count": null,
   "metadata": {},
   "outputs": [],
   "source": [
    "# Definindo uma função\n",
    "# Definindo uma função com parâmetro\n",
    "def primeira_func(digitequalquercoisa):\n",
    "    print(\"Seu \" + digitequalquercoisa)"
   ]
  },
  {
   "cell_type": "code",
   "execution_count": null,
   "metadata": {},
   "outputs": [],
   "source": [
    "primeira_func('arrombado')"
   ]
  },
  {
   "cell_type": "code",
   "execution_count": null,
   "metadata": {},
   "outputs": [],
   "source": [
    "def funcao_leitura():\n",
    "    for i in range(0,5):\n",
    "        print(\"Número \"+ str(i))"
   ]
  },
  {
   "cell_type": "code",
   "execution_count": null,
   "metadata": {},
   "outputs": [],
   "source": [
    "funcao_leitura()"
   ]
  },
  {
   "cell_type": "code",
   "execution_count": null,
   "metadata": {},
   "outputs": [],
   "source": [
    "# Função para somar números\n",
    "def add_num(num1,num2):\n",
    "    print(num1+num2)"
   ]
  },
  {
   "cell_type": "code",
   "execution_count": null,
   "metadata": {},
   "outputs": [],
   "source": [
    "add_num(2,2)"
   ]
  },
  {
   "cell_type": "markdown",
   "metadata": {},
   "source": [
    "### 3.4.1 Variáveis locais e globais  \n",
    "Variáveis locais só podem ser rodadas dentro do local de criação.  \n",
    "Variáveis globais podem ser chamadas globalmente em qualquer lugar do programa.  "
   ]
  },
  {
   "cell_type": "code",
   "execution_count": null,
   "metadata": {},
   "outputs": [],
   "source": [
    "# Variável Global\n",
    "var_global = 10  # Esta é uma variável global\n",
    "\n",
    "def multiply(num1, num2):\n",
    "    var_global = num1 * num2  # Esta é uma variável local\n",
    "    print(var_global)"
   ]
  },
  {
   "cell_type": "code",
   "execution_count": null,
   "metadata": {},
   "outputs": [],
   "source": [
    "multiply(5, 25)"
   ]
  },
  {
   "cell_type": "code",
   "execution_count": null,
   "metadata": {},
   "outputs": [],
   "source": [
    "# por mais que var_global tenha tido outro valor dentro da função\n",
    "# Aquele valor vale apenas dentro da função.\n",
    "print(var_global)"
   ]
  },
  {
   "cell_type": "markdown",
   "metadata": {},
   "source": [
    "**Funções Built-in**"
   ]
  },
  {
   "cell_type": "code",
   "execution_count": null,
   "metadata": {},
   "outputs": [],
   "source": [
    "abs(-56)"
   ]
  },
  {
   "cell_type": "code",
   "execution_count": null,
   "metadata": {},
   "outputs": [],
   "source": [
    "bool(0)"
   ]
  },
  {
   "cell_type": "markdown",
   "metadata": {},
   "source": [
    "**Funções str, int, float**"
   ]
  },
  {
   "cell_type": "code",
   "execution_count": null,
   "metadata": {},
   "outputs": [],
   "source": [
    "# Erro ao executar por causa da conversão\n",
    "idade = input(\"Digite sua idade: \")\n",
    "if idade > 13:\n",
    "  print(\"Você pode acessar o Facebook\") "
   ]
  },
  {
   "cell_type": "code",
   "execution_count": null,
   "metadata": {},
   "outputs": [],
   "source": [
    "# Usando a função int para converter o valor digitado\n",
    "idade = int(input(\"Digite sua idade: \"))\n",
    "if idade > 13:\n",
    "  print(\"Você pode acessar o Facebook\") "
   ]
  },
  {
   "cell_type": "code",
   "execution_count": null,
   "metadata": {},
   "outputs": [],
   "source": [
    "len([23,34,45,46])"
   ]
  },
  {
   "cell_type": "code",
   "execution_count": null,
   "metadata": {},
   "outputs": [],
   "source": [
    "array = ['a', 'b', 'c']"
   ]
  },
  {
   "cell_type": "code",
   "execution_count": null,
   "metadata": {},
   "outputs": [],
   "source": [
    "max(array)"
   ]
  },
  {
   "cell_type": "code",
   "execution_count": null,
   "metadata": {},
   "outputs": [],
   "source": [
    "array = ['a', 'b', 'c', 'd', 'A', 'B', 'C', 'D']"
   ]
  },
  {
   "cell_type": "code",
   "execution_count": null,
   "metadata": {},
   "outputs": [],
   "source": [
    "max(array)"
   ]
  },
  {
   "cell_type": "markdown",
   "metadata": {},
   "source": [
    "**Criando funções usando outras funções**"
   ]
  },
  {
   "cell_type": "code",
   "execution_count": null,
   "metadata": {},
   "outputs": [],
   "source": [
    "# importando pack\n",
    "import math\n",
    "\n",
    "#definindo função \n",
    "def numPrimo(num):\n",
    "    '''\n",
    "    Verificando se um número \n",
    "    é primo. \n",
    "    '''\n",
    "# PARES Se o num % 2 == 0 e maior que 2, num não é primo \n",
    "    if (num % 2) == 0 and num > 2: \n",
    "        return \"Este número não é primo\"\n",
    "# ÍMPARES para cada i no range de 3 até a raiz de num+1, de 2 em 2 números\n",
    "# se num dividido pelo i for == 0, não é primo\n",
    "    for i in range(3, int(math.sqrt(num)) + 1, 2):\n",
    "        if (num % i) == 0:\n",
    "            return \"Este número não é primo\"\n",
    "    return \"Este número é primo\""
   ]
  },
  {
   "cell_type": "code",
   "execution_count": null,
   "metadata": {},
   "outputs": [],
   "source": [
    "numPrimo(7)"
   ]
  },
  {
   "cell_type": "markdown",
   "metadata": {},
   "source": [
    "**Fazendo split dos dados**"
   ]
  },
  {
   "cell_type": "code",
   "execution_count": null,
   "metadata": {},
   "outputs": [],
   "source": [
    "# Fazendo split dos dados\n",
    "def split_string(text):\n",
    "    return text.split()"
   ]
  },
  {
   "cell_type": "code",
   "execution_count": null,
   "metadata": {},
   "outputs": [],
   "source": [
    "texto = \"Cassio gostoso\""
   ]
  },
  {
   "cell_type": "code",
   "execution_count": null,
   "metadata": {},
   "outputs": [],
   "source": [
    "print(split_string(texto))"
   ]
  },
  {
   "cell_type": "code",
   "execution_count": null,
   "metadata": {},
   "outputs": [],
   "source": [
    "print(texto)"
   ]
  },
  {
   "cell_type": "code",
   "execution_count": null,
   "metadata": {},
   "outputs": [],
   "source": [
    "def lower_case(texto):\n",
    "    return texto.lower()"
   ]
  },
  {
   "cell_type": "code",
   "execution_count": null,
   "metadata": {},
   "outputs": [],
   "source": [
    "print(lower_case(texto))"
   ]
  },
  {
   "cell_type": "code",
   "execution_count": 1,
   "metadata": {},
   "outputs": [],
   "source": [
    "# Funções com número variável de argumentos\n",
    "def printVarInfo( arg1, *vartuple ):\n",
    "   # Imprimindo o valor do primeiro argumento\n",
    "    print (\"O parâmetro passado foi: \", arg1)\n",
    "   \n",
    "   # Imprimindo o valor do segundo argumento \n",
    "    for item in vartuple:\n",
    "        print (\"O parâmetro passado foi: \", item)\n",
    "    return;"
   ]
  },
  {
   "cell_type": "code",
   "execution_count": 2,
   "metadata": {},
   "outputs": [
    {
     "name": "stdout",
     "output_type": "stream",
     "text": [
      "O parâmetro passado foi:  Oi\n",
      "O parâmetro passado foi:  3\n",
      "O parâmetro passado foi:  4\n",
      "O parâmetro passado foi:  6\n",
      "O parâmetro passado foi:  7\n"
     ]
    }
   ],
   "source": [
    "printVarInfo('Oi',3,4,6,7)"
   ]
  },
  {
   "cell_type": "markdown",
   "metadata": {},
   "source": [
    "## 3.5 Expressões Lambda  \n",
    "Lambda é a criação de expressões ad-hoc, em temo de execução.  \n",
    "As diferenças de uma função lambda de uma def:    \n",
    "* O corpo da lambda é uma única expressão, não um bloco de instruções;  \n",
    "* O corpo é semelhante a uma instrução de retorno do corpo def;  \n",
    "* São mais úteis quando usadas com as expressões map(), filter() e reduce();  \n",
    "* Usadas para funções mais simples;\n",
    "* Também chamadas de funções in-line ou anônimas;  \n",
    "EX: lambda x: x**2"
   ]
  },
  {
   "cell_type": "markdown",
   "metadata": {},
   "source": [
    "**def cria um obejto e atribui nome**  \n",
    "**lambda cria um objeto, mas retorna um resultado em tempo de execução**"
   ]
  },
  {
   "cell_type": "code",
   "execution_count": 1,
   "metadata": {},
   "outputs": [],
   "source": [
    "# Definindo uma expressão lambda\n",
    "potencia = lambda num: num**2"
   ]
  },
  {
   "cell_type": "code",
   "execution_count": 2,
   "metadata": {},
   "outputs": [
    {
     "data": {
      "text/plain": [
       "25"
      ]
     },
     "execution_count": 2,
     "metadata": {},
     "output_type": "execute_result"
    }
   ],
   "source": [
    "potencia(5)"
   ]
  },
  {
   "cell_type": "code",
   "execution_count": 3,
   "metadata": {},
   "outputs": [],
   "source": [
    "par = lambda x: x % 2== 0"
   ]
  },
  {
   "cell_type": "code",
   "execution_count": 4,
   "metadata": {},
   "outputs": [
    {
     "data": {
      "text/plain": [
       "False"
      ]
     },
     "execution_count": 4,
     "metadata": {},
     "output_type": "execute_result"
    }
   ],
   "source": [
    "par(3)"
   ]
  },
  {
   "cell_type": "code",
   "execution_count": 5,
   "metadata": {},
   "outputs": [],
   "source": [
    "adicao = lambda x,y: x + y"
   ]
  },
  {
   "cell_type": "code",
   "execution_count": 6,
   "metadata": {},
   "outputs": [
    {
     "data": {
      "text/plain": [
       "4"
      ]
     },
     "execution_count": 6,
     "metadata": {},
     "output_type": "execute_result"
    }
   ],
   "source": [
    "adicao(2,2)"
   ]
  },
  {
   "cell_type": "code",
   "execution_count": 7,
   "metadata": {},
   "outputs": [],
   "source": [
    "first_letter = lambda s:s[0]"
   ]
  },
  {
   "cell_type": "code",
   "execution_count": 8,
   "metadata": {},
   "outputs": [
    {
     "data": {
      "text/plain": [
       "'c'"
      ]
     },
     "execution_count": 8,
     "metadata": {},
     "output_type": "execute_result"
    }
   ],
   "source": [
    "first_letter(\"cassio\")"
   ]
  },
  {
   "cell_type": "code",
   "execution_count": null,
   "metadata": {},
   "outputs": [],
   "source": []
  }
 ],
 "metadata": {
  "kernelspec": {
   "name": "python3",
   "display_name": "Python 3.8.3 32-bit",
   "metadata": {
    "interpreter": {
     "hash": "fd79791493db95631836c987676c1d89245328bd2de772c91e26deceffbc872c"
    }
   }
  },
  "language_info": {
   "codemirror_mode": {
    "name": "ipython",
    "version": 3
   },
   "file_extension": ".py",
   "mimetype": "text/x-python",
   "name": "python",
   "nbconvert_exporter": "python",
   "pygments_lexer": "ipython3",
   "version": "3.8.3-final"
  }
 },
 "nbformat": 4,
 "nbformat_minor": 2
}