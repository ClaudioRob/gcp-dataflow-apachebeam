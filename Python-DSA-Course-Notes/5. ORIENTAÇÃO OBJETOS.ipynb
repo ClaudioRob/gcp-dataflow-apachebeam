{
 "metadata": {
  "language_info": {
   "codemirror_mode": {
    "name": "ipython",
    "version": 3
   },
   "file_extension": ".py",
   "mimetype": "text/x-python",
   "name": "python",
   "nbconvert_exporter": "python",
   "pygments_lexer": "ipython3",
   "version": "3.8.3-final"
  },
  "orig_nbformat": 2,
  "kernelspec": {
   "name": "python3",
   "display_name": "Python 3.8.3 32-bit",
   "metadata": {
    "interpreter": {
     "hash": "fd79791493db95631836c987676c1d89245328bd2de772c91e26deceffbc872c"
    }
   }
  }
 },
 "nbformat": 4,
 "nbformat_minor": 2,
 "cells": [
  {
   "source": [
    "# POO\n",
    "POO é um modelo de análise, projeto e programação de sistemas de software baseado na composição e interação entre diversas unidades de software chamadas de objetos. \n",
    "## POO x Programação Estruturada\n",
    "### Programação Estruturada:  \n",
    "* Sequência\n",
    "* Decisão\n",
    "* Iteração (Repetição)\n",
    "### POO\n",
    "* Usa Classes\n",
    "* Métodos são funções dentro de classes, usadas para manipular os atributos do objeto  \n",
    "EX: Objeto é cachorro, atributos tamanho (int) e raça(string), e faz o método .latir() (método)\n",
    "\n",
    "## Conceitos POO\n",
    "* Classe: Representa objetos do mundo real. Cada Instancia é uma classe\n",
    "Podemos ter uma classe livro, que pode conter vários livros\n",
    "\n",
    "* Objeto: é uma instancia de uma classe, que possui atributos. tudo é objeto. list, tuple, dict...\n",
    "Para criar um objeto, devemos criar uma classe e instaciar algo com essa classe, que passa a ter os atributos e métodos da classe.\n",
    "\n",
    "* Atributos: Caract. ou propriedades dos objetos\n",
    "* Métodos: Funções de um objeto, é uma função de uma classe\n",
    "* Mensagem: Chamada de um método\n",
    "* Herança: Uma sub classe pode herdar atributos de uma supper classe, e compartilha-los\n",
    "* Polimorfismo: \n",
    "* Encapsulamento\n",
    "\n"
   ],
   "cell_type": "markdown",
   "metadata": {}
  },
  {
   "cell_type": "code",
   "execution_count": 2,
   "metadata": {},
   "outputs": [],
   "source": [
    "# Criando a classe Livro com parâmetros no método construtor\n",
    "class Livro():\n",
    "    \n",
    "    # Este método vai inicializar cada objeto criado a partir desta classe\n",
    "    # O nome deste método é __init__\n",
    "    # (self) é uma referência a cada atributo de um objeto criado a partir desta classe\n",
    "    def __init__(self, titulo, isbn):\n",
    "        \n",
    "        # Atributos de cada objeto criado a partir desta classe. \n",
    "        # O self indica que estes são atributos dos objetos\n",
    "        self.titulo = titulo\n",
    "        self.isbn = isbn\n",
    "        print(\"Construtor chamado para criar um objeto desta classe\")\n",
    "    \n",
    "    # Métodos são funções, que recebem como parâmetro atributos do objeto criado     \n",
    "    def imprime(self, titulo, isbn):\n",
    "        print(\"Este é o livro %s e ISBN %d\" %(titulo, isbn))"
   ]
  },
  {
   "cell_type": "code",
   "execution_count": 4,
   "metadata": {},
   "outputs": [
    {
     "output_type": "stream",
     "name": "stdout",
     "text": [
      "Construtor chamado para criar um objeto desta classe\n"
     ]
    }
   ],
   "source": [
    "livro = Livro(\"1984\",77859)"
   ]
  },
  {
   "cell_type": "code",
   "execution_count": 6,
   "metadata": {},
   "outputs": [
    {
     "output_type": "execute_result",
     "data": {
      "text/plain": [
       "'1984'"
      ]
     },
     "metadata": {},
     "execution_count": 6
    }
   ],
   "source": [
    "livro.titulo"
   ]
  },
  {
   "source": [
    "##  TESTE CLASSE CACHORRO"
   ],
   "cell_type": "markdown",
   "metadata": {}
  },
  {
   "cell_type": "code",
   "execution_count": 32,
   "metadata": {},
   "outputs": [],
   "source": [
    "class Cachorro():\n",
    "    def __init__(self,raca):\n",
    "        self.raca = raca\n",
    "    \n",
    "    def pedigree(self):\n",
    "        if self.raca == 'Linguiça':\n",
    "            return print(\"sim\")\n",
    "        else:\n",
    "            return print(\"não\")\n",
    "rex = Cachorro('Linguiça')\n",
    "tobby = Cachorro('Viralata')"
   ]
  },
  {
   "cell_type": "code",
   "execution_count": 38,
   "metadata": {},
   "outputs": [
    {
     "output_type": "execute_result",
     "data": {
      "text/plain": [
       "'Viralata'"
      ]
     },
     "metadata": {},
     "execution_count": 38
    }
   ],
   "source": [
    "rex.raca\n",
    "tobby.raca"
   ]
  },
  {
   "cell_type": "code",
   "execution_count": 36,
   "metadata": {},
   "outputs": [
    {
     "output_type": "stream",
     "name": "stdout",
     "text": [
      "sim\nnão\n"
     ]
    }
   ],
   "source": [
    "rex.pedigree()\n",
    "tobby.pedigree()"
   ]
  },
  {
   "source": [
    "## TESTE ESTUDANTES"
   ],
   "cell_type": "markdown",
   "metadata": {}
  },
  {
   "cell_type": "code",
   "execution_count": 39,
   "metadata": {},
   "outputs": [],
   "source": [
    "class Estudantes:\n",
    "    def __init__(self,nome,idade,nota):\n",
    "        self.nome = nome\n",
    "        self.idade = idade\n",
    "        self.nota = nota"
   ]
  },
  {
   "cell_type": "code",
   "execution_count": 40,
   "metadata": {},
   "outputs": [],
   "source": [
    "aluno = Estudantes(\"Cassio\",32,10)"
   ]
  },
  {
   "cell_type": "code",
   "execution_count": 41,
   "metadata": {},
   "outputs": [
    {
     "output_type": "execute_result",
     "data": {
      "text/plain": [
       "True"
      ]
     },
     "metadata": {},
     "execution_count": 41
    }
   ],
   "source": [
    "# funções de verificar atributos\n",
    "hasattr(aluno,\"nome\")"
   ]
  },
  {
   "cell_type": "code",
   "execution_count": 42,
   "metadata": {},
   "outputs": [
    {
     "output_type": "execute_result",
     "data": {
      "text/plain": [
       "'Cassio'"
      ]
     },
     "metadata": {},
     "execution_count": 42
    }
   ],
   "source": [
    "getattr(aluno,\"nome\")"
   ]
  },
  {
   "cell_type": "code",
   "execution_count": 43,
   "metadata": {},
   "outputs": [],
   "source": [
    "setattr(aluno,\"nome\",\"joão\")"
   ]
  },
  {
   "cell_type": "code",
   "execution_count": 44,
   "metadata": {},
   "outputs": [
    {
     "output_type": "execute_result",
     "data": {
      "text/plain": [
       "'joão'"
      ]
     },
     "metadata": {},
     "execution_count": 44
    }
   ],
   "source": [
    "getattr(aluno,\"nome\")"
   ]
  },
  {
   "cell_type": "code",
   "execution_count": 48,
   "metadata": {},
   "outputs": [
    {
     "output_type": "execute_result",
     "data": {
      "text/plain": [
       "'joão'"
      ]
     },
     "metadata": {},
     "execution_count": 48
    }
   ],
   "source": [
    "aluno.nome"
   ]
  },
  {
   "cell_type": "code",
   "execution_count": 49,
   "metadata": {},
   "outputs": [],
   "source": [
    "delattr(aluno,\"nome\")"
   ]
  },
  {
   "cell_type": "code",
   "execution_count": 50,
   "metadata": {},
   "outputs": [
    {
     "output_type": "error",
     "ename": "AttributeError",
     "evalue": "'Estudantes' object has no attribute 'nome'",
     "traceback": [
      "\u001b[1;31m---------------------------------------------------------------------------\u001b[0m",
      "\u001b[1;31mAttributeError\u001b[0m                            Traceback (most recent call last)",
      "\u001b[1;32m<ipython-input-50-834485f2e665>\u001b[0m in \u001b[0;36m<module>\u001b[1;34m\u001b[0m\n\u001b[1;32m----> 1\u001b[1;33m \u001b[0mgetattr\u001b[0m\u001b[1;33m(\u001b[0m\u001b[0maluno\u001b[0m\u001b[1;33m,\u001b[0m\u001b[1;34m\"nome\"\u001b[0m\u001b[1;33m)\u001b[0m\u001b[1;33m\u001b[0m\u001b[1;33m\u001b[0m\u001b[0m\n\u001b[0m",
      "\u001b[1;31mAttributeError\u001b[0m: 'Estudantes' object has no attribute 'nome'"
     ]
    }
   ],
   "source": [
    "getattr(aluno,\"nome\")"
   ]
  },
  {
   "source": [
    "# MÉTODOS\n",
    "* São funções deifnidas dentro de uma classe\n",
    "* Usados para realizar operações com atributos dos objetos\n"
   ],
   "cell_type": "markdown",
   "metadata": {}
  },
  {
   "cell_type": "code",
   "execution_count": 52,
   "metadata": {},
   "outputs": [],
   "source": [
    "# Criando uma classe chamada Circulo\n",
    "class Circulo():\n",
    "    \n",
    "    # O valor de pi é constante\n",
    "    pi = 3.14\n",
    "\n",
    "    # Quando um objeto desta classe for criado, este método será executado e o valor default do raio será 5.\n",
    "    def __init__(self, raio = 5):\n",
    "        self.raio = raio \n",
    "\n",
    "    # Esse método calcula a área. Self utiliza os atributos deste mesmo objeto\n",
    "    def area(self):\n",
    "        return (self.raio * self.raio) * Circulo.pi\n",
    "\n",
    "    # Método para gerar um novo raio\n",
    "    def setRaio(self, novo_raio):\n",
    "        self.raio = novo_raio\n",
    "\n",
    "    # Método para obter o raio do círculo\n",
    "    def getRaio(self):\n",
    "        return self.raio"
   ]
  },
  {
   "cell_type": "code",
   "execution_count": 53,
   "metadata": {},
   "outputs": [],
   "source": [
    "circ = Circulo(5)"
   ]
  },
  {
   "cell_type": "code",
   "execution_count": 54,
   "metadata": {},
   "outputs": [
    {
     "output_type": "execute_result",
     "data": {
      "text/plain": [
       "78.5"
      ]
     },
     "metadata": {},
     "execution_count": 54
    }
   ],
   "source": [
    "circ.area()"
   ]
  },
  {
   "cell_type": "code",
   "execution_count": 55,
   "metadata": {},
   "outputs": [],
   "source": [
    "circ.setRaio(3)"
   ]
  },
  {
   "cell_type": "code",
   "execution_count": 56,
   "metadata": {},
   "outputs": [
    {
     "output_type": "execute_result",
     "data": {
      "text/plain": [
       "3"
      ]
     },
     "metadata": {},
     "execution_count": 56
    }
   ],
   "source": [
    "circ.getRaio()"
   ]
  },
  {
   "source": [
    "# HERANÇA\n",
    "* É um forma de gerar novas classes uanso classes que doram definidas previamente\n",
    "* As novas classes geradas são chamadas de sub classes ou derivadas\n",
    "* A classe que deu origem a sub-classe, é chamada de super-classe ou clase base\n",
    "* O benefício é a reutilização de de código e redução de complexidade dos programas\n"
   ],
   "cell_type": "markdown",
   "metadata": {}
  },
  {
   "cell_type": "code",
   "execution_count": 57,
   "metadata": {},
   "outputs": [],
   "source": [
    "# Criando a classe Animal - Super-classe\n",
    "class Animal():\n",
    "    \n",
    "    def __init__(self):\n",
    "        print(\"Animal criado\")\n",
    "\n",
    "    def Identif(self):\n",
    "        print(\"Animal\")\n",
    "    # ação de comer, qualquer animal faz\n",
    "    def comer(self):\n",
    "        print(\"Comendo\")"
   ]
  },
  {
   "cell_type": "code",
   "execution_count": 58,
   "metadata": {},
   "outputs": [],
   "source": [
    "# Criando a classe Cachorro - Sub-classe\n",
    "class Cachorro(Animal):\n",
    "    # no init da classe filho, eu chamo o init da classe animal, para a sub classe ter os mesmo atributos\n",
    "    def __init__(self):\n",
    "        Animal.__init__(self)\n",
    "        print(\"Objeto Cachorro criado\")\n",
    "    # função repetida\n",
    "    def Identif(self):\n",
    "        print(\"Cachorro\")\n",
    "    # latir não pode estar na classe Animal, pois tem animais que não latem\n",
    "    def latir(self):\n",
    "        print(\"Au Au!\")"
   ]
  },
  {
   "cell_type": "code",
   "execution_count": 59,
   "metadata": {},
   "outputs": [
    {
     "output_type": "stream",
     "name": "stdout",
     "text": [
      "Animal criado\nObjeto Cachorro criado\n"
     ]
    }
   ],
   "source": [
    "rex = Cachorro()"
   ]
  },
  {
   "cell_type": "code",
   "execution_count": 60,
   "metadata": {},
   "outputs": [
    {
     "output_type": "stream",
     "name": "stdout",
     "text": [
      "Cachorro\n"
     ]
    }
   ],
   "source": [
    "# como identif está repetido, o da classe filho é o principal\n",
    "rex.Identif()"
   ]
  },
  {
   "cell_type": "code",
   "execution_count": 61,
   "metadata": {},
   "outputs": [
    {
     "output_type": "stream",
     "name": "stdout",
     "text": [
      "Comendo\n"
     ]
    }
   ],
   "source": [
    "# posso usar métodos da classe pai, nos obnjetos da classe filho\n",
    "rex.comer()"
   ]
  },
  {
   "source": [
    "# MÉTODOS ESPECIAIS\n",
    "* Classes em python podem implementar determinadas operações com métodos ESPECIAIS\n",
    "* Ao usar métodos epseciais sua classe poderá ter um comportamento semelhante a um dicionário, uma função ou mesmo um número.\n",
    "* __init__ é um método especial"
   ],
   "cell_type": "markdown",
   "metadata": {}
  }
 ]
}