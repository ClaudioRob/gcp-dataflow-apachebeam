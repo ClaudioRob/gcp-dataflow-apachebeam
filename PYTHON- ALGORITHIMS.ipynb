{
 "metadata": {
  "language_info": {
   "codemirror_mode": {
    "name": "ipython",
    "version": 3
   },
   "file_extension": ".py",
   "mimetype": "text/x-python",
   "name": "python",
   "nbconvert_exporter": "python",
   "pygments_lexer": "ipython3",
   "version": "3.8.3-final"
  },
  "orig_nbformat": 2,
  "kernelspec": {
   "name": "python3",
   "display_name": "Python 3.8.3 32-bit",
   "metadata": {
    "interpreter": {
     "hash": "fd79791493db95631836c987676c1d89245328bd2de772c91e26deceffbc872c"
    }
   }
  }
 },
 "nbformat": 4,
 "nbformat_minor": 2,
 "cells": [
  {
   "source": [
    "# PRINTAR STRING NA ORDEM REVERSA\n",
    "\n"
   ],
   "cell_type": "markdown",
   "metadata": {}
  },
  {
   "cell_type": "code",
   "execution_count": null,
   "metadata": {},
   "outputs": [],
   "source": [
    "x = -123"
   ]
  },
  {
   "cell_type": "code",
   "execution_count": 8,
   "metadata": {},
   "outputs": [
    {
     "output_type": "stream",
     "name": "stdout",
     "text": [
      "{'num': 2}\n"
     ]
    }
   ],
   "source": [
    "x = {\"num\":1}\n",
    "y = {\"num\":2}\n",
    "x.update(y)\n",
    "print(x)"
   ]
  },
  {
   "cell_type": "code",
   "execution_count": null,
   "metadata": {},
   "outputs": [],
   "source": [
    "def reverse(x):\n",
    "    string = str(x)\n",
    "    if string[0] == '-':\n",
    "        return int('-'+string[:0:-1])\n",
    "    else:\n",
    "        return int(string[::-1])"
   ]
  },
  {
   "cell_type": "code",
   "execution_count": null,
   "metadata": {},
   "outputs": [],
   "source": [
    "reverse(x)"
   ]
  },
  {
   "source": [
    "# MÉDIA DE COMPRIMENTO DAS PALAVRAS"
   ],
   "cell_type": "markdown",
   "metadata": {}
  },
  {
   "cell_type": "code",
   "execution_count": null,
   "metadata": {},
   "outputs": [],
   "source": [
    "frase = \"Cassio é muito lindo! O Melhor programador do mundo.\""
   ]
  },
  {
   "cell_type": "code",
   "execution_count": null,
   "metadata": {},
   "outputs": [],
   "source": [
    "\n",
    "def medCompPal(x):\n",
    "    lst = []\n",
    "    pontos = '!.,:/'\n",
    "    frase.replace(pontos,'')\n",
    "    for i in frase.split():\n",
    "        lst.append(len(i))\n",
    "    return round(sum(lst)/len(lst),2)"
   ]
  },
  {
   "cell_type": "code",
   "execution_count": null,
   "metadata": {},
   "outputs": [],
   "source": [
    "medCompPal(frase)"
   ]
  },
  {
   "source": [
    "# SOMAR NUMEROS EM STRING SEM COMVERTER COM INT()"
   ],
   "cell_type": "markdown",
   "metadata": {}
  },
  {
   "cell_type": "code",
   "execution_count": null,
   "metadata": {},
   "outputs": [],
   "source": [
    "num1 = '1'\n",
    "num2 = '2'"
   ]
  },
  {
   "cell_type": "code",
   "execution_count": null,
   "metadata": {},
   "outputs": [],
   "source": [
    "def somarString(x,y):\n",
    "    return eval(x) + eval(y)"
   ]
  },
  {
   "cell_type": "code",
   "execution_count": null,
   "metadata": {},
   "outputs": [],
   "source": [
    "somarString(num1,num2)"
   ]
  },
  {
   "source": [
    "# VERIRICAR O INDICE DO PRIMEIRO CARACTERE QUE NÃO REPETE\n",
    "## Método 1"
   ],
   "cell_type": "markdown",
   "metadata": {}
  },
  {
   "cell_type": "code",
   "execution_count": null,
   "metadata": {},
   "outputs": [],
   "source": [
    "st = 'cassio'\n",
    "\n",
    "def indChaUniq_1(s):\n",
    "    frequency = {}\n",
    "    for i in s:\n",
    "        if i not in frequency:\n",
    "            frequency[i] = 1\n",
    "        else:\n",
    "            frequency[i] +=1\n",
    "    for i in range(len(s)):\n",
    "        if frequency[s[i]] == 1:\n",
    "            return i\n",
    "    return -1"
   ]
  },
  {
   "cell_type": "code",
   "execution_count": null,
   "metadata": {},
   "outputs": [],
   "source": [
    "solution(st)"
   ]
  },
  {
   "source": [
    "## Método 2"
   ],
   "cell_type": "markdown",
   "metadata": {}
  },
  {
   "cell_type": "code",
   "execution_count": null,
   "metadata": {},
   "outputs": [],
   "source": [
    "import collections\n",
    "def indChaUniq_2(s):\n",
    "    # build hash map : character and how often it appears\n",
    "    count = collections.Counter(s) # <-- gives back a dictionary with words occurrence count \n",
    "    print(count)                                     #Counter({'l': 1, 'e': 3, 't': 1, 'c': 1, 'o': 1, 'd': 1})\n",
    "    # find the index\n",
    "    for k, v in enumerate(s):\n",
    "        if count[v] == 1:\n",
    "            return k   \n",
    "    "
   ]
  },
  {
   "cell_type": "code",
   "execution_count": null,
   "metadata": {},
   "outputs": [],
   "source": [
    "indChaUniq_2(st)"
   ]
  },
  {
   "source": [
    "# TESTE PALÍNDROMO (MESMO SENTIDO DE TRAZ PRA FRENTE)"
   ],
   "cell_type": "markdown",
   "metadata": {}
  },
  {
   "cell_type": "code",
   "execution_count": null,
   "metadata": {},
   "outputs": [],
   "source": [
    "s = 'radkar'\n",
    "def paliRemov1(s):\n",
    "    for i in range(len(s)):\n",
    "        t = s[:i] + s[i+1:]\n",
    "        if t == t[::-1]:\n",
    "            return True\n",
    "\n",
    "    return True"
   ]
  },
  {
   "cell_type": "code",
   "execution_count": null,
   "metadata": {},
   "outputs": [],
   "source": [
    "paliRemov1(s)"
   ]
  },
  {
   "source": [
    "# FUNÇÃO GERAR TROCO EM MOEDAS"
   ],
   "cell_type": "markdown",
   "metadata": {}
  },
  {
   "cell_type": "code",
   "execution_count": null,
   "metadata": {},
   "outputs": [],
   "source": [
    "back = 50"
   ]
  },
  {
   "cell_type": "code",
   "execution_count": null,
   "metadata": {},
   "outputs": [],
   "source": [
    "def coins_change(back):\n",
    "    ncoins = []\n",
    "    coins = [25,10,5,1]\n",
    "    for i in coins:\n",
    "        if back == 0:\n",
    "            break\n",
    "        if i <= back:\n",
    "            ncoins = back//i\n",
    "            back = back-(i*ncoins)\n",
    "    return ncoins\n",
    "\n",
    "\n",
    "#print(ncoins)\n",
    "#print(back)"
   ]
  },
  {
   "cell_type": "code",
   "execution_count": null,
   "metadata": {},
   "outputs": [],
   "source": [
    "coins_change(back)"
   ]
  },
  {
   "source": [
    "# VERIFICAR SE O ARRAY É UMA SEQUÊNCIA"
   ],
   "cell_type": "markdown",
   "metadata": {}
  },
  {
   "cell_type": "code",
   "execution_count": null,
   "metadata": {},
   "outputs": [],
   "source": [
    "a = [1,2,3,6,4,5]"
   ]
  },
  {
   "cell_type": "code",
   "execution_count": null,
   "metadata": {},
   "outputs": [],
   "source": [
    "def sequence(a):\n",
    "    return (all(a[i] <= a[i+1] for i in range(len(a)-1))\n",
    "            or\n",
    "            all(a[i] >= a[i+1] for i in range(len(a)-1)))"
   ]
  },
  {
   "cell_type": "code",
   "execution_count": null,
   "metadata": {},
   "outputs": [],
   "source": [
    "sequence(a)"
   ]
  },
  {
   "source": [
    "# SEND ZEROS TO END OF LIST\n",
    "## MÉTODO 1"
   ],
   "cell_type": "markdown",
   "metadata": {}
  },
  {
   "cell_type": "code",
   "execution_count": null,
   "metadata": {},
   "outputs": [],
   "source": [
    "lst = [0,2,3,0,5,6]\n",
    "\n",
    "def sortZerosToEnd(lst):\n",
    "    lst_sorted = []\n",
    "    lst0 = []\n",
    "    for i in lst:\n",
    "        if i == 0:\n",
    "            lst0.append(i)\n",
    "        else:\n",
    "            lst_sorted.append(i)\n",
    "    lst_sorted.extend(lst0)\n",
    "    return lst_sorted"
   ]
  },
  {
   "cell_type": "code",
   "execution_count": null,
   "metadata": {},
   "outputs": [],
   "source": [
    "sortZerosToEnd(lst)"
   ]
  },
  {
   "source": [
    "## MÉTODO 2"
   ],
   "cell_type": "markdown",
   "metadata": {}
  },
  {
   "cell_type": "code",
   "execution_count": null,
   "metadata": {},
   "outputs": [],
   "source": [
    "def sortZerosToEnd_2(x):\n",
    "    for i in x:\n",
    "        if i == 0:\n",
    "            x.remove(i)\n",
    "            x.append(i)\n",
    "    return x"
   ]
  },
  {
   "cell_type": "code",
   "execution_count": null,
   "metadata": {},
   "outputs": [],
   "source": [
    "sortZerosToEnd_2(lst)"
   ]
  },
  {
   "source": [
    "# PREENCHER VALORES NONE COM ÚLTIMO REGISTRO VALID"
   ],
   "cell_type": "markdown",
   "metadata": {}
  },
  {
   "cell_type": "code",
   "execution_count": null,
   "metadata": {},
   "outputs": [],
   "source": [
    "lst = [0,None,5,None,6,7,None]\n",
    "\n",
    "def replaceNone(lst):\n",
    "    valid = 0\n",
    "    reso = []\n",
    "    for i in lst:\n",
    "        if i is not None:\n",
    "            reso.append(i)\n",
    "            valid = i\n",
    "        else:\n",
    "            reso.append(valid)\n",
    "    return reso"
   ]
  },
  {
   "cell_type": "code",
   "execution_count": null,
   "metadata": {},
   "outputs": [],
   "source": [
    "replaceNone(lst)"
   ]
  },
  {
   "source": [
    "# PALAVRAS QUE ESTÃO EM AMBAS LISTAS\n",
    "## Método 1"
   ],
   "cell_type": "markdown",
   "metadata": {}
  },
  {
   "cell_type": "code",
   "execution_count": null,
   "metadata": {},
   "outputs": [],
   "source": [
    "sentence1 = 'We are really pleased to meet you in our city'\n",
    "sentence2 = 'The city was hit by a really heavy storm'"
   ]
  },
  {
   "cell_type": "code",
   "execution_count": null,
   "metadata": {},
   "outputs": [],
   "source": [
    "def compare_list(list1,list2):\n",
    "    sent1 = set(list1.split())\n",
    "    sent2 = set(list2.split())\n",
    "    in_both = []\n",
    "    not_in_both = []\n",
    "    for i in sent1:\n",
    "        if i in sent2:\n",
    "            in_both.append(i)\n",
    "        if i not in sent2:\n",
    "            not_in_both.append(i)\n",
    "    return (in_both,not_in_both)\n",
    "\n",
    "compare_list(sentence1,sentence2)"
   ]
  },
  {
   "source": [
    "## Método 2"
   ],
   "cell_type": "markdown",
   "metadata": {}
  },
  {
   "cell_type": "code",
   "execution_count": null,
   "metadata": {},
   "outputs": [],
   "source": [
    "def compare_list(list1,list2):\n",
    "    sent1 = set(list1.split())\n",
    "    sent2 = set(list2.split())\n",
    "    return sorted(list(sent1^sent2)),sorted(list(sent1&sent2))\n",
    "compare_list(sentence1,sentence2)"
   ]
  },
  {
   "source": [
    "# NÚMEROS PRIMOS"
   ],
   "cell_type": "markdown",
   "metadata": {}
  },
  {
   "cell_type": "code",
   "execution_count": 43,
   "metadata": {},
   "outputs": [],
   "source": [
    "n = 30\n",
    "def prime_nums_(n):\n",
    "    prime = []\n",
    "    for num in range(n):\n",
    "        if num > 1:\n",
    "            for i in range(2,num):\n",
    "                if (num % i) == 0:\n",
    "                    break\n",
    "            else: \n",
    "                prime.append(num)\n",
    "    return prime"
   ]
  },
  {
   "cell_type": "code",
   "execution_count": 44,
   "metadata": {},
   "outputs": [
    {
     "output_type": "execute_result",
     "data": {
      "text/plain": [
       "[2, 3, 5, 7, 11, 13, 17, 19, 23, 29]"
      ]
     },
     "metadata": {},
     "execution_count": 44
    }
   ],
   "source": [
    "prime_nums_(n)  "
   ]
  },
  {
   "source": [],
   "cell_type": "markdown",
   "metadata": {}
  },
  {
   "cell_type": "code",
   "execution_count": 15,
   "metadata": {},
   "outputs": [
    {
     "output_type": "error",
     "ename": "ValueError",
     "evalue": "list.remove(x): x not in list",
     "traceback": [
      "\u001b[1;31m---------------------------------------------------------------------------\u001b[0m",
      "\u001b[1;31mValueError\u001b[0m                                Traceback (most recent call last)",
      "\u001b[1;32m<ipython-input-15-06e075428a59>\u001b[0m in \u001b[0;36m<module>\u001b[1;34m\u001b[0m\n\u001b[0;32m      3\u001b[0m \u001b[1;32mfor\u001b[0m \u001b[0mi\u001b[0m \u001b[1;32min\u001b[0m \u001b[0mnd\u001b[0m\u001b[1;33m:\u001b[0m\u001b[1;33m\u001b[0m\u001b[1;33m\u001b[0m\u001b[0m\n\u001b[0;32m      4\u001b[0m     \u001b[1;32mfor\u001b[0m \u001b[0mi\u001b[0m \u001b[1;32min\u001b[0m \u001b[0mrange\u001b[0m\u001b[1;33m(\u001b[0m\u001b[1;36m4\u001b[0m\u001b[1;33m)\u001b[0m\u001b[1;33m:\u001b[0m\u001b[1;33m\u001b[0m\u001b[1;33m\u001b[0m\u001b[0m\n\u001b[1;32m----> 5\u001b[1;33m         \u001b[0mnd\u001b[0m\u001b[1;33m.\u001b[0m\u001b[0mremove\u001b[0m\u001b[1;33m(\u001b[0m\u001b[0mi\u001b[0m\u001b[1;33m)\u001b[0m\u001b[1;33m\u001b[0m\u001b[1;33m\u001b[0m\u001b[0m\n\u001b[0m",
      "\u001b[1;31mValueError\u001b[0m: list.remove(x): x not in list"
     ]
    }
   ],
   "source": [
    "d = 4\n",
    "nd = [1,2,3,4,5]\n",
    "for i in nd:\n",
    "    for i in range(4):\n",
    "        nd.remove(i)"
   ]
  }
 ]
}