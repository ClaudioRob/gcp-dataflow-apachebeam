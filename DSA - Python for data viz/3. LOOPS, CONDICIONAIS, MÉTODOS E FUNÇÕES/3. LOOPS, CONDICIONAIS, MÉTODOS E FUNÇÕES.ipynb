{
 "cells": [
  {
   "cell_type": "markdown",
   "metadata": {},
   "source": [
    "# 3.loops, condicionais, métodos e funções\n",
    "\n",
    "## 3.1 Condicionais\n",
    "São ifs\n",
    "\"Caso isso aconteceça, execute essa ação\"  \n",
    "Estruturas simples:  "
   ]
  },
  {
   "cell_type": "code",
   "execution_count": null,
   "metadata": {},
   "outputs": [],
   "source": [
    "if (\"Python\" == \"python\"):\n",
    "    print(1)\n",
    "else:\n",
    "    print(2)"
   ]
  },
  {
   "cell_type": "markdown",
   "metadata": {},
   "source": [
    "Estrutura com Elif"
   ]
  },
  {
   "cell_type": "code",
   "execution_count": null,
   "metadata": {},
   "outputs": [],
   "source": [
    "if (\"Python\" == \"python\"):\n",
    "    print(1)\n",
    "elif (\"Python\" == \"pYthon\"):\n",
    "    print(2)\n",
    "else: \n",
    "    print(0)"
   ]
  },
  {
   "cell_type": "markdown",
   "metadata": {},
   "source": [
    "* Precisa sempre ter : depois da expressão;  \n",
    "* Expressão não precisa estar entre parênteses;  \n",
    "* a ação da expressão DEVE estar indentada. Faz parte da sintaxe;  \n",
    "* Dentro do if, ele sempre espera um resultado booleano = TRUE ou FALSE; \n",
    "\n",
    "## 3.2 Condicionais Alinhados:    \n",
    "Quando quero checkar mais de uma variável se ela é verdadeira. If sobre if.  "
   ]
  },
  {
   "cell_type": "code",
   "execution_count": null,
   "metadata": {},
   "outputs": [],
   "source": [
    "Nome = \"Bob\"\n",
    "idade = 14\n",
    "if idade > 13:\n",
    " if Nome == \"Bob\":\n",
    "   print(\"Ok Bob, você está autorizado a entrar!\")\n",
    " else:\n",
    "   print(\"Desculpe, mas você não pode entrar!\")"
   ]
  },
  {
   "cell_type": "markdown",
   "metadata": {},
   "source": [
    "Ou, dá pra usar operador lógico = or, and..."
   ]
  },
  {
   "cell_type": "code",
   "execution_count": null,
   "metadata": {},
   "outputs": [],
   "source": [
    "idade = 13\n",
    "Nome = \"Bob\"\n",
    "if idade >= 13 and Nome == \"Bob\":\n",
    "    print(\"Ok Bob, você está autorizado a entrar!\")"
   ]
  },
  {
   "cell_type": "markdown",
   "metadata": {},
   "source": [
    "**ELIF**  \n",
    "Usado quando quero múltiplos ifs, facilitando o uso de if sobre if."
   ]
  },
  {
   "cell_type": "code",
   "execution_count": null,
   "metadata": {},
   "outputs": [],
   "source": [
    "dia = \"Quarta\"\n",
    "if dia == \"Segunda\":\n",
    "  print(\"Hoje fará sol!\")\n",
    "elif dia == \"Terça\":\n",
    "  print(\"Hoje vai chover!\")\n",
    "else:\n",
    "  print(\"Sem previsão do tempo para o dia selecionado\")"
   ]
  },
  {
   "cell_type": "markdown",
   "metadata": {},
   "source": [
    "**OPERADORES LÓGICOS**  \n",
    "Pode-se usar mais de um operador lógico dentro de uma clausula if.  \n",
    "Também é possível usar a função input() para que uma variável seja definida baseada em um parâmetro entrado pelo usuário:  \n",
    "* input() = usuário define paramêtro  \n",
    "* %s e %(Nome_da_variável) = %s chama o valor atribuído a variável disciplina, nesse caso. "
   ]
  },
  {
   "cell_type": "code",
   "execution_count": null,
   "metadata": {},
   "outputs": [],
   "source": [
    "disciplina = input('Nome da disciplina: ')\n",
    "nota_final = input('Sua nota final: ')\n",
    "\n",
    "if disciplina == 'Geografia' or 'Português' and nota_final >= '70':\n",
    "    print('Parabéns, você foi aprovado em %s' %(disciplina))\n",
    "elif disciplina == 'Matemática' and nota_final >= '80':\n",
    "    print('Parabéns, você foi aprovado em %s' %(disciplina))\n",
    "else:\n",
    "    print('Infelizmente você foi reprovado em %s' %(disciplina))"
   ]
  },
  {
   "cell_type": "markdown",
   "metadata": {},
   "source": [
    "## 3.3 Estruturas de Loops  \n",
    "**For** = Valida cada item de uma série de valores  \n",
    "ex:   \n",
    "**for** item **in** [série de valores]:    \n",
    "(indent)Executar estes comandos.  \n",
    "\n",
    "item é uma vairável, que pode inclusive ser referenciada em um if dentro do loop;   \n",
    "A série de valores pode ser:  \n",
    "* Strings  \n",
    "* Listas  \n",
    "* Tuplas  \n",
    "* Elementos de dicionários  \n",
    "* Arquivos"
   ]
  },
  {
   "cell_type": "code",
   "execution_count": null,
   "metadata": {},
   "outputs": [],
   "source": [
    "# Criando uma tupla e imprimindo cada um dos valores\n",
    "tp = (\"Cassio\",\"vic\")\n",
    "for nome in tp:\n",
    "    print(nome)"
   ]
  },
  {
   "cell_type": "code",
   "execution_count": null,
   "metadata": {},
   "outputs": [],
   "source": [
    "# Imprimindo os valores no intervalo entre 0 e 5 (exclusive)\n",
    "for contador in range(0,11):\n",
    "    print(contador)"
   ]
  },
  {
   "cell_type": "code",
   "execution_count": null,
   "metadata": {},
   "outputs": [],
   "source": [
    "# Imprimindo na tela os números pares da lista de números\n",
    "lista = [1,2,3,4,5,6,7,8,9,10,11,12]\n",
    "for num in lista:\n",
    "    if num %2 == 0:\n",
    "        print (num)"
   ]
  },
  {
   "cell_type": "code",
   "execution_count": null,
   "metadata": {},
   "outputs": [],
   "source": [
    "# Listando os números no intervalo entre 0 e 101, com incremento em 2\n",
    "for i in range(0,10,2):  \n",
    "    print(i)"
   ]
  },
  {
   "cell_type": "markdown",
   "metadata": {},
   "source": [
    "**Loops Alinhados**  \n",
    "São loops dentro de loops:\n",
    "No loop abaixo, printando a variável numero_sec que vai de 0 a 4, de acordo com a variável numero_princ, que vai 9 vezes.  \n",
    "Então, vou printar 0,1,2,3,4 , 10 vezes"
   ]
  },
  {
   "cell_type": "code",
   "execution_count": 5,
   "metadata": {},
   "outputs": [
    {
     "name": "stdout",
     "output_type": "stream",
     "text": [
      "0\n",
      "1\n",
      "2\n",
      "3\n",
      "4\n",
      "0\n",
      "1\n",
      "2\n",
      "3\n",
      "4\n",
      "0\n",
      "1\n",
      "2\n",
      "3\n",
      "4\n",
      "0\n",
      "1\n",
      "2\n",
      "3\n",
      "4\n",
      "0\n",
      "1\n",
      "2\n",
      "3\n",
      "4\n",
      "0\n",
      "1\n",
      "2\n",
      "3\n",
      "4\n",
      "0\n",
      "1\n",
      "2\n",
      "3\n",
      "4\n",
      "0\n",
      "1\n",
      "2\n",
      "3\n",
      "4\n",
      "0\n",
      "1\n",
      "2\n",
      "3\n",
      "4\n",
      "0\n",
      "1\n",
      "2\n",
      "3\n",
      "4\n"
     ]
    }
   ],
   "source": [
    "# Loops aninhados\n",
    "for numero_princ in range(0,10):\n",
    "    for numero_sec in range(0,5):\n",
    "        print(numero_sec)"
   ]
  },
  {
   "cell_type": "markdown",
   "metadata": {},
   "source": [
    "No loop abaixo, criei a variável universal soma_receita zerada, depois para receita na lista, eu multipliquei pela margem de lucro de 10%, depois somei o lucro (variável local, só existe nesse loop) e salvei ao mesmo tempo sobre a variavel soma_receita usando +="
   ]
  },
  {
   "cell_type": "code",
   "execution_count": 9,
   "metadata": {},
   "outputs": [
    {
     "name": "stdout",
     "output_type": "stream",
     "text": [
      "60.0\n"
     ]
    }
   ],
   "source": [
    "# Operando os valores de uma lista com loop for\n",
    "lista_receita = [200,100,300]\n",
    "soma_receita = 0\n",
    "for receita in lista_receita:\n",
    "    lucro = receita * 0.1\n",
    "    soma_receita += lucro\n",
    "    \n",
    "print(soma_receita)"
   ]
  },
  {
   "cell_type": "code",
   "execution_count": 10,
   "metadata": {},
   "outputs": [
    {
     "name": "stdout",
     "output_type": "stream",
     "text": [
      "[1, 2, 3]\n",
      "[10, 15, 14]\n",
      "[10.1, 8.7, 2.3]\n"
     ]
    }
   ],
   "source": [
    "# Loops em lista de listas\n",
    "# Cada lista é um valor\n",
    "listas = [[1,2,3], [10,15,14], [10.1,8.7,2.3]]\n",
    "for valor in listas:\n",
    "    print(valor)"
   ]
  },
  {
   "cell_type": "code",
   "execution_count": 8,
   "metadata": {},
   "outputs": [
    {
     "name": "stdout",
     "output_type": "stream",
     "text": [
      "3\n"
     ]
    }
   ],
   "source": [
    "# Contando o número de colunas\n",
    "lst = [[1,2,3],[3,4,5],[5,6,7]]\n",
    "primeira_linha = lst[0]\n",
    "count = 0\n",
    "for column in primeira_linha:\n",
    "    count = count + 1\n",
    "    \n",
    "print(count)"
   ]
  },
  {
   "cell_type": "code",
   "execution_count": 22,
   "metadata": {},
   "outputs": [
    {
     "name": "stdout",
     "output_type": "stream",
     "text": [
      "18\n",
      "20\n"
     ]
    }
   ],
   "source": [
    "# Pesquisando em listas\n",
    "dict_idade = [10,18,20]\n",
    "for idade in dict_idade:\n",
    "    if idade >= 18:\n",
    "        print(idade)"
   ]
  },
  {
   "cell_type": "code",
   "execution_count": 23,
   "metadata": {},
   "outputs": [
    {
     "name": "stdout",
     "output_type": "stream",
     "text": [
      "k1\n",
      "k2\n",
      "k3\n"
     ]
    }
   ],
   "source": [
    "# Listando as chaves de um dicionário\n",
    "dict = {'k1':'Python','k2':'R','k3':'Scala'}\n",
    "for item in dict:\n",
    "    print(item)"
   ]
  },
  {
   "cell_type": "code",
   "execution_count": 9,
   "metadata": {},
   "outputs": [
    {
     "name": "stdout",
     "output_type": "stream",
     "text": [
      "Número não encontrado!\n",
      "Número não encontrado!\n",
      "Número não encontrado!\n",
      "Número não encontrado!\n",
      "Número não encontrado!\n"
     ]
    }
   ],
   "source": [
    "# Pesquisando em listas\n",
    "listaC = [5, 6, 7, 10, 50]\n",
    "\n",
    "# Loop através da lista\n",
    "for item in listaC:\n",
    "    if item == 1:\n",
    "        print(\"Número encontrado na lista!\")\n",
    "    else:\n",
    "        print(\"Número não encontrado!\")"
   ]
  },
  {
   "cell_type": "markdown",
   "metadata": {},
   "source": [
    "**WHILE**\n",
    "Forma mais comum de executar  iteranções.  \n",
    "estrutura:  \n",
    "while (expressão1):  \n",
    "____print(\"comando executando caso a expressão 1 seja verdadeira\")"
   ]
  },
  {
   "cell_type": "code",
   "execution_count": 10,
   "metadata": {},
   "outputs": [
    {
     "name": "stdout",
     "output_type": "stream",
     "text": [
      "0\n",
      "1\n",
      "2\n",
      "3\n",
      "4\n",
      "5\n",
      "6\n",
      "7\n",
      "8\n",
      "9\n"
     ]
    }
   ],
   "source": [
    "# Usando o loop while para imprimir os valores de 0 a 9\n",
    "counter = 0 # Define o contador\n",
    "while counter < 10: # Define até quando fica loop\n",
    "    print(counter) # Chama a variável\n",
    "    counter = counter + 1 # Chama a função que limita e calcula"
   ]
  },
  {
   "cell_type": "code",
   "execution_count": 11,
   "metadata": {},
   "outputs": [
    {
     "name": "stdout",
     "output_type": "stream",
     "text": [
      "O valor de x nesta iteração é:  0\n",
      " x ainda é menor que 10, somando 1 a x\n",
      "O valor de x nesta iteração é:  1\n",
      " x ainda é menor que 10, somando 1 a x\n",
      "O valor de x nesta iteração é:  2\n",
      " x ainda é menor que 10, somando 1 a x\n",
      "O valor de x nesta iteração é:  3\n",
      " x ainda é menor que 10, somando 1 a x\n",
      "O valor de x nesta iteração é:  4\n",
      " x ainda é menor que 10, somando 1 a x\n",
      "O valor de x nesta iteração é:  5\n",
      " x ainda é menor que 10, somando 1 a x\n",
      "O valor de x nesta iteração é:  6\n",
      " x ainda é menor que 10, somando 1 a x\n",
      "O valor de x nesta iteração é:  7\n",
      " x ainda é menor que 10, somando 1 a x\n",
      "O valor de x nesta iteração é:  8\n",
      " x ainda é menor que 10, somando 1 a x\n",
      "O valor de x nesta iteração é:  9\n",
      " x ainda é menor que 10, somando 1 a x\n",
      "Loop concluído!\n"
     ]
    }
   ],
   "source": [
    "# Também é possível usar a claúsula else para encerrar o loop while\n",
    "x = 0\n",
    "\n",
    "while x < 10:\n",
    "    # printa o calor do count atual e indica o resultado atual\n",
    "    print ('O valor de x nesta iteração é: ', x) \n",
    "    print (' x ainda é menor que 10, somando 1 a x')\n",
    "    # Soma e salva na variável x\n",
    "    x += 1\n",
    "    \n",
    "else:\n",
    "    # Quando acaba\n",
    "    print ('Loop concluído!')"
   ]
  },
  {
   "cell_type": "markdown",
   "metadata": {},
   "source": [
    "**Pass, Break, Continue**  \n",
    "* break = se resultado igual a variável, para o loop  \n",
    "* continue = se resultado igual a variavel, pula a função  \n",
    "* pass = contrário do break, se for igual, aprova (ou se for diferente, em um else)"
   ]
  },
  {
   "cell_type": "code",
   "execution_count": 18,
   "metadata": {},
   "outputs": [
    {
     "name": "stdout",
     "output_type": "stream",
     "text": [
      "0\n",
      "1\n",
      "2\n",
      "3\n",
      "4\n",
      "5\n",
      "6\n",
      "7\n",
      "8\n",
      "9\n"
     ]
    }
   ],
   "source": [
    "counter = 0\n",
    "while counter < 10:\n",
    "    if counter == 11:\n",
    "        break\n",
    "    else:\n",
    "        pass\n",
    "    print(counter)\n",
    "    counter = counter + 1"
   ]
  },
  {
   "cell_type": "code",
   "execution_count": 20,
   "metadata": {},
   "outputs": [
    {
     "name": "stdout",
     "output_type": "stream",
     "text": [
      "P\n",
      "y\n",
      "t\n",
      "h\n"
     ]
    }
   ],
   "source": [
    "for verificador in \"Python\":\n",
    "    if verificador == \"o\":\n",
    "        continue\n",
    "    elif verificador == \"n\":\n",
    "        continue\n",
    "    print(verificador)"
   ]
  },
  {
   "cell_type": "markdown",
   "metadata": {},
   "source": [
    "**While e For juntos**"
   ]
  },
  {
   "cell_type": "code",
   "execution_count": 34,
   "metadata": {},
   "outputs": [
    {
     "name": "stdout",
     "output_type": "stream",
     "text": [
      "1 é um número primo\n",
      "2 é um número primo\n",
      "3 é um número primo\n",
      "5 é um número primo\n",
      "7 é um número primo\n",
      "11 é um número primo\n",
      "13 é um número primo\n",
      "17 é um número primo\n",
      "19 é um número primo\n",
      "23 é um número primo\n",
      "29 é um número primo\n"
     ]
    }
   ],
   "source": [
    "# para cada número (i) entre 2 e 30\n",
    "for i in range(1,30):\n",
    "# Atribuo o valor as variáveis j e counter\n",
    "    j = 2\n",
    "    counter = 0\n",
    "# Enquanto j for menor que i\n",
    "    while j < i:\n",
    "# e também a diferença da divisão de i por j for zero        \n",
    "        if i % j == 0:\n",
    "# counter receber o valor de 1 e j recebe j + 1        \n",
    "            counter = 1\n",
    "            j = j + 1\n",
    "# Se a diferença da divisão de i por j for difente de 0        \n",
    "        else:\n",
    "# j recebe o valor de j + 1        \n",
    "            j = j + 1\n",
    "# depois, se o counter ainda for 0, eu printo ele como um num primo    \n",
    "    if counter == 0:\n",
    "        print(str(i) + \" é um número primo\")\n",
    "# e redefino counter como zero        \n",
    "        counter = 0\n",
    "# e se counter for maior que 0, ele não é primo e eu só redefino counter pra 0    \n",
    "    else:\n",
    "        counter = 0"
   ]
  },
  {
   "cell_type": "markdown",
   "metadata": {},
   "source": [
    "**Range**  \n",
    "permite repetir um conjunto de elementos, um número de vezes.   \n",
    "sintaxe:  \n",
    "range([start], [stop], [step]).  \n",
    "* Start = número que se inicia  \n",
    "* stop = número que termina  \n",
    "* step = diferença entre os números do range ( se 2, vai pegar um número a cada 2, ous seja, 1,3,5,7,8...)  \n",
    "\n"
   ]
  },
  {
   "cell_type": "code",
   "execution_count": null,
   "metadata": {},
   "outputs": [],
   "source": []
  }
 ],
 "metadata": {
  "kernelspec": {
   "display_name": "Python 3",
   "language": "python",
   "name": "python3"
  },
  "language_info": {
   "codemirror_mode": {
    "name": "ipython",
    "version": 3
   },
   "file_extension": ".py",
   "mimetype": "text/x-python",
   "name": "python",
   "nbconvert_exporter": "python",
   "pygments_lexer": "ipython3",
   "version": "3.7.3"
  }
 },
 "nbformat": 4,
 "nbformat_minor": 2
}
