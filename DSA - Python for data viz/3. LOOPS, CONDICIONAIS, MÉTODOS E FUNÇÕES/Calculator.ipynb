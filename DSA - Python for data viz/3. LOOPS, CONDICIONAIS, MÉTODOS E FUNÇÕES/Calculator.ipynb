{
 "cells": [
  {
   "cell_type": "code",
   "execution_count": 9,
   "metadata": {},
   "outputs": [
    {
     "name": "stdout",
     "output_type": "stream",
     "text": [
      "********** Python Calculator ***********\n",
      "\n",
      "1 - Soma\n",
      "2 - Subtração\n",
      "3 - Multiplicação\n",
      "4 - Divisão\n",
      "\n",
      "Digite sua opção(1/2/3/4): 3\n"
     ]
    }
   ],
   "source": [
    "print(\"********** Python Calculator ***********\")\n",
    "\n",
    "def soma(num1,num2):\n",
    "    return (num1 + num2)\n",
    "\n",
    "def sub(num1,num2):\n",
    "    return (num1 - num2)\n",
    "\n",
    "def div(num1,num2):\n",
    "    return (num1 / num2)\n",
    "\n",
    "def mult(num1,num2):\n",
    "    return (num1 * num2)\n",
    "\n",
    "print(\"\")\n",
    "print(\"1 - Soma\")\n",
    "print(\"2 - Subtração\")\n",
    "print(\"3 - Multiplicação\")\n",
    "print(\"4 - Divisão\")\n",
    "print(\"\")\n",
    "\n",
    "operacao = int(input(\"Digite sua opção(1/2/3/4): \"))"
   ]
  },
  {
   "cell_type": "code",
   "execution_count": 10,
   "metadata": {},
   "outputs": [
    {
     "name": "stdout",
     "output_type": "stream",
     "text": [
      "Digite o primeiro número: 2\n"
     ]
    }
   ],
   "source": [
    "num1 = int(input(\"Digite o primeiro número: \"))"
   ]
  },
  {
   "cell_type": "code",
   "execution_count": 11,
   "metadata": {},
   "outputs": [
    {
     "name": "stdout",
     "output_type": "stream",
     "text": [
      "Digite o segundo número: 1\n"
     ]
    }
   ],
   "source": [
    "num2 = int(input(\"Digite o segundo número: \"))"
   ]
  },
  {
   "cell_type": "code",
   "execution_count": 12,
   "metadata": {},
   "outputs": [
    {
     "name": "stdout",
     "output_type": "stream",
     "text": [
      "2\n"
     ]
    }
   ],
   "source": [
    "#def calculadora(operacao)\n",
    "if (operacao == 1):\n",
    "    print(soma(num1,num2))\n",
    "    \n",
    "elif (operacao == 2):\n",
    "    print(sub(num1,num2))\n",
    "    \n",
    "elif (operacao == 3):\n",
    "    print(mult(num1,num2))\n",
    "    \n",
    "elif (operacao == 4):\n",
    "    print(div(num1,num2)) \n",
    "else:\n",
    "    print(\"operação inválida\")"
   ]
  },
  {
   "cell_type": "code",
   "execution_count": null,
   "metadata": {},
   "outputs": [],
   "source": []
  },
  {
   "cell_type": "code",
   "execution_count": null,
   "metadata": {},
   "outputs": [],
   "source": []
  }
 ],
 "metadata": {
  "kernelspec": {
   "display_name": "Python 3",
   "language": "python",
   "name": "python3"
  },
  "language_info": {
   "codemirror_mode": {
    "name": "ipython",
    "version": 3
   },
   "file_extension": ".py",
   "mimetype": "text/x-python",
   "name": "python",
   "nbconvert_exporter": "python",
   "pygments_lexer": "ipython3",
   "version": "3.7.3"
  }
 },
 "nbformat": 4,
 "nbformat_minor": 2
}
