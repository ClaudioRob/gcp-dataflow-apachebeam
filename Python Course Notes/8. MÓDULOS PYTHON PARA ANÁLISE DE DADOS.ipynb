{
 "metadata": {
  "language_info": {
   "codemirror_mode": {
    "name": "ipython",
    "version": 3
   },
   "file_extension": ".py",
   "mimetype": "text/x-python",
   "name": "python",
   "nbconvert_exporter": "python",
   "pygments_lexer": "ipython3",
   "version": 3
  },
  "orig_nbformat": 2
 },
 "nbformat": 4,
 "nbformat_minor": 2,
 "cells": [
  {
   "source": [
    "# NUMPY\n",
    "* Numerical Python\n",
    "* Mathematical computation in Python\n",
    "* Supports arrays and matrices, and math functions for these objects\n",
    "* Linear ALgebra operations\n",
    "* Integration with C, C++ and Fortran\n",
    "* it faster than other built in functions for numerical data analysis\n",
    "\n",
    "## Arrays\n",
    "* Array is pack os values, of same type, indexed by a tuple\n",
    "* Are homogeneous and statics\n",
    "* Are more efficient in memory usage\n",
    "* Offer quick implementatinos of math functions\n",
    "* Faster and more powerfull than lists"
   ],
   "cell_type": "markdown",
   "metadata": {}
  }
 ]
}