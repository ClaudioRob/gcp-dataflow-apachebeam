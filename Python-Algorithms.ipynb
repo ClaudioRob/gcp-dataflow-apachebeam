{
 "metadata": {
  "language_info": {
   "codemirror_mode": {
    "name": "ipython",
    "version": 3
   },
   "file_extension": ".py",
   "mimetype": "text/x-python",
   "name": "python",
   "nbconvert_exporter": "python",
   "pygments_lexer": "ipython3",
   "version": "3.8.3-final"
  },
  "orig_nbformat": 2,
  "kernelspec": {
   "name": "python3",
   "display_name": "Python 3.8.3 32-bit",
   "metadata": {
    "interpreter": {
     "hash": "fd79791493db95631836c987676c1d89245328bd2de772c91e26deceffbc872c"
    }
   }
  }
 },
 "nbformat": 4,
 "nbformat_minor": 2,
 "cells": [
  {
   "source": [
    "# PRINT STRING IN REVERSE ORDER"
   ],
   "cell_type": "markdown",
   "metadata": {}
  },
  {
   "cell_type": "code",
   "execution_count": 9,
   "metadata": {},
   "outputs": [
    {
     "output_type": "stream",
     "name": "stdout",
     "text": [
      "-3214\n"
     ]
    }
   ],
   "source": [
    "x = -4123\n",
    "def reverse_neg(x):\n",
    "    x = str(x)\n",
    "    if x[0] == '-':\n",
    "        print('-'+x[:0:-1])\n",
    "    else:\n",
    "        print(x[::-1])\n",
    "reverse_neg(x)"
   ]
  },
  {
   "source": [
    "# AVERAGE WORDS LENGHT"
   ],
   "cell_type": "markdown",
   "metadata": {}
  },
  {
   "cell_type": "code",
   "execution_count": 11,
   "metadata": {},
   "outputs": [],
   "source": [
    "frase = \"the sky is blue!!!! I Love it.\""
   ]
  },
  {
   "cell_type": "code",
   "execution_count": 27,
   "metadata": {},
   "outputs": [
    {
     "output_type": "execute_result",
     "data": {
      "text/plain": [
       "4.89"
      ]
     },
     "metadata": {},
     "execution_count": 27
    }
   ],
   "source": [
    "def avg_len(f):\n",
    "    lst_len = []\n",
    "    punct = '!.'\n",
    "    f.replace(punct,'')\n",
    "    for i in f.split(): \n",
    "        lst_len.append(len(i))\n",
    "    return round(sum(lst_len)/len(lst_len),2)\n",
    "avg_len(frase)"
   ]
  },
  {
   "source": [
    "# SUM STRING WITHOUT CONVERTING TO INT()\n"
   ],
   "cell_type": "markdown",
   "metadata": {}
  },
  {
   "cell_type": "code",
   "execution_count": 1,
   "metadata": {},
   "outputs": [
    {
     "output_type": "execute_result",
     "data": {
      "text/plain": [
       "5"
      ]
     },
     "metadata": {},
     "execution_count": 1
    }
   ],
   "source": [
    "def sum_str(x,y):\n",
    "    return eval(x) + eval(y)\n",
    "\n",
    "sum_str('2','3')"
   ]
  },
  {
   "source": [
    "# VERIFY INDEX OF FIRST NON REPEATING CHAR"
   ],
   "cell_type": "markdown",
   "metadata": {}
  },
  {
   "cell_type": "code",
   "execution_count": 47,
   "metadata": {},
   "outputs": [],
   "source": [
    "import collections\n",
    "st = \"ccassioc\"\n",
    "def indChaUniq_2(s):\n",
    "    # build hash map : character and how often it appears\n",
    "    count = collections.Counter(s) # <-- gives back a dictionary with words occurrence count \n",
    "    #print(count)     \n",
    "    #Counter({'l': 1, 'e': 3, 't': 1, 'c': 1, 'o': 1, 'd': 1})\n",
    "    # find the index with enumerate\n",
    "    for k, v in enumerate(s):\n",
    "        if count[v] == 1:\n",
    "            return k   "
   ]
  },
  {
   "cell_type": "code",
   "execution_count": 48,
   "metadata": {},
   "outputs": [
    {
     "output_type": "stream",
     "name": "stdout",
     "text": [
      "Counter({'c': 3, 's': 2, 'a': 1, 'i': 1, 'o': 1})\n"
     ]
    },
    {
     "output_type": "execute_result",
     "data": {
      "text/plain": [
       "2"
      ]
     },
     "metadata": {},
     "execution_count": 48
    }
   ],
   "source": [
    "indChaUniq_2(st)"
   ]
  },
  {
   "source": [
    "# PALINDROME TEST\n"
   ],
   "cell_type": "markdown",
   "metadata": {}
  },
  {
   "cell_type": "code",
   "execution_count": 2,
   "metadata": {},
   "outputs": [
    {
     "output_type": "stream",
     "name": "stdout",
     "text": [
      "Not Pali\n"
     ]
    }
   ],
   "source": [
    "s = 'radkar'\n",
    "def pali_test (txt):\n",
    "    if txt == txt[::-1]:\n",
    "        print(\"Is Pali\")\n",
    "    else:\n",
    "        print(\"Not Pali\")\n",
    "pali_test(s)"
   ]
  },
  {
   "source": [
    "## PALINDROME BY REMOVING ONE CHAR"
   ],
   "cell_type": "markdown",
   "metadata": {}
  },
  {
   "cell_type": "code",
   "execution_count": 3,
   "metadata": {},
   "outputs": [
    {
     "output_type": "execute_result",
     "data": {
      "text/plain": [
       "True"
      ]
     },
     "metadata": {},
     "execution_count": 3
    }
   ],
   "source": [
    "def is_pali_remov(s):\n",
    "    for i in range(len(s)):\n",
    "        var = s[:i]+s[i+1:len(s)]\n",
    "        if var == var[::-1]:\n",
    "            return True\n",
    "is_pali_remov(s)"
   ]
  },
  {
   "source": [
    "# IS SEQUENCE?"
   ],
   "cell_type": "markdown",
   "metadata": {}
  },
  {
   "cell_type": "code",
   "execution_count": 119,
   "metadata": {},
   "outputs": [],
   "source": [
    "a = [1,2,3,4,5]\n",
    "b = [5,4,3,2,1,5]"
   ]
  },
  {
   "cell_type": "code",
   "execution_count": 120,
   "metadata": {},
   "outputs": [
    {
     "output_type": "execute_result",
     "data": {
      "text/plain": [
       "False"
      ]
     },
     "metadata": {},
     "execution_count": 120
    }
   ],
   "source": [
    "def is_sequence (a):\n",
    "    if all([a[i] <= a[i+1] for i in range(len(a)-1)]) == True or all([a[i] >= a[i+1] for i in range(len(a)-1)]) == True:\n",
    "        return True\n",
    "    else:\n",
    "        return False\n",
    "is_sequence(b)"
   ]
  },
  {
   "source": [
    "# SEND ZEROS TO END OF LIST"
   ],
   "cell_type": "markdown",
   "metadata": {}
  },
  {
   "cell_type": "code",
   "execution_count": 121,
   "metadata": {},
   "outputs": [],
   "source": [
    "lst = [0,2,3,0,5,6]"
   ]
  },
  {
   "cell_type": "code",
   "execution_count": 123,
   "metadata": {},
   "outputs": [
    {
     "output_type": "execute_result",
     "data": {
      "text/plain": [
       "[2, 3, 5, 6, 0, 0]"
      ]
     },
     "metadata": {},
     "execution_count": 123
    }
   ],
   "source": [
    "for i in lst:\n",
    "    if i == 0:\n",
    "        lst.remove(i)\n",
    "        lst.append(0)\n",
    "    else:\n",
    "        continue\n",
    "lst"
   ]
  },
  {
   "source": [
    "# FIND WORDS THAT ARE IN BOTH LISTS"
   ],
   "cell_type": "markdown",
   "metadata": {}
  },
  {
   "cell_type": "code",
   "execution_count": 132,
   "metadata": {},
   "outputs": [
    {
     "output_type": "execute_result",
     "data": {
      "text/plain": [
       "['really', 'city']"
      ]
     },
     "metadata": {},
     "execution_count": 132
    }
   ],
   "source": [
    "sentence1 = 'We are really pleased to meet you in our city'\n",
    "sentence2 = 'The city was hit by a really heavy storm'\n",
    "\n",
    "def words_in_both(s1, s2):\n",
    "    s1 = set(s1.split())\n",
    "    s2 = set(s2.split())\n",
    "    return list(s1&s2)\n",
    "\n",
    "words_in_both(sentence1,sentence2)"
   ]
  },
  {
   "source": [
    "# PRIME NUMS"
   ],
   "cell_type": "markdown",
   "metadata": {}
  },
  {
   "cell_type": "code",
   "execution_count": 155,
   "metadata": {},
   "outputs": [],
   "source": [
    " def prime_nums_(n): \n",
    "    prime = []\n",
    "    for num in range(n):\n",
    "        if num > 1:\n",
    "            if (num % 2) == 0:\n",
    "                continue\n",
    "            else: \n",
    "                prime.append(num)\n",
    "    return prime"
   ]
  },
  {
   "cell_type": "code",
   "execution_count": 156,
   "metadata": {},
   "outputs": [
    {
     "output_type": "execute_result",
     "data": {
      "text/plain": [
       "[3, 5, 7, 9, 11, 13, 15, 17, 19, 21, 23, 25, 27, 29]"
      ]
     },
     "metadata": {},
     "execution_count": 156
    }
   ],
   "source": [
    "prime_nums_(30)"
   ]
  },
  {
   "cell_type": "code",
   "execution_count": null,
   "metadata": {},
   "outputs": [],
   "source": []
  }
 ]
}