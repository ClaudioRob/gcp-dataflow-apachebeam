{
 "metadata": {
  "language_info": {
   "codemirror_mode": {
    "name": "ipython",
    "version": 3
   },
   "file_extension": ".py",
   "mimetype": "text/x-python",
   "name": "python",
   "nbconvert_exporter": "python",
   "pygments_lexer": "ipython3",
   "version": "3.8.3"
  },
  "orig_nbformat": 2,
  "kernelspec": {
   "name": "python383jvsc74a57bd0fd79791493db95631836c987676c1d89245328bd2de772c91e26deceffbc872c",
   "display_name": "Python 3.8.3 32-bit"
  },
  "metadata": {
   "interpreter": {
    "hash": "fd79791493db95631836c987676c1d89245328bd2de772c91e26deceffbc872c"
   }
  }
 },
 "nbformat": 4,
 "nbformat_minor": 2,
 "cells": [
  {
   "source": [
    "# PRINT STRING IN REVERSE ORDER"
   ],
   "cell_type": "markdown",
   "metadata": {}
  },
  {
   "cell_type": "code",
   "execution_count": null,
   "metadata": {},
   "outputs": [],
   "source": [
    "x = -4123\n",
    "def reverse_neg(x):\n",
    "    x = str(x)\n",
    "    if x[0] == '-':\n",
    "        print('-'+x[:0:-1])\n",
    "    else:\n",
    "        print(x[::-1])\n",
    "reverse_neg(x)"
   ]
  },
  {
   "source": [
    "# AVERAGE WORDS LENGHT"
   ],
   "cell_type": "markdown",
   "metadata": {}
  },
  {
   "cell_type": "code",
   "execution_count": null,
   "metadata": {},
   "outputs": [],
   "source": [
    "frase = \"the sky is blue!!!! I Love it.\""
   ]
  },
  {
   "cell_type": "code",
   "execution_count": null,
   "metadata": {},
   "outputs": [],
   "source": [
    "def avg_len(f):\n",
    "    lst_len = []\n",
    "    punct = '!.'\n",
    "    f.replace(punct,'')\n",
    "    for i in f.split(): \n",
    "        lst_len.append(len(i))\n",
    "    return round(sum(lst_len)/len(lst_len),2)\n",
    "avg_len(frase)"
   ]
  },
  {
   "source": [
    "# SUM STRING WITHOUT CONVERTING TO INT()\n"
   ],
   "cell_type": "markdown",
   "metadata": {}
  },
  {
   "cell_type": "code",
   "execution_count": null,
   "metadata": {},
   "outputs": [],
   "source": [
    "def sum_str(x,y):\n",
    "    return eval(x) + eval(y)\n",
    "\n",
    "sum_str('2','3')"
   ]
  },
  {
   "source": [
    "# VERIFY INDEX OF FIRST NON REPEATING CHAR"
   ],
   "cell_type": "markdown",
   "metadata": {}
  },
  {
   "cell_type": "code",
   "execution_count": null,
   "metadata": {},
   "outputs": [],
   "source": [
    "import collections\n",
    "st = \"ccassioc\"\n",
    "def indChaUniq_2(s):\n",
    "    # build hash map : character and how often it appears\n",
    "    count = collections.Counter(s) # <-- gives back a dictionary with words occurrence count \n",
    "    #print(count)     \n",
    "    #Counter({'l': 1, 'e': 3, 't': 1, 'c': 1, 'o': 1, 'd': 1})\n",
    "    # find the index with enumerate\n",
    "    for k, v in enumerate(s):\n",
    "        if count[v] == 1:\n",
    "            return k   "
   ]
  },
  {
   "cell_type": "code",
   "execution_count": null,
   "metadata": {},
   "outputs": [],
   "source": [
    "indChaUniq_2(st)"
   ]
  },
  {
   "source": [
    "# PALINDROME TEST\n"
   ],
   "cell_type": "markdown",
   "metadata": {}
  },
  {
   "cell_type": "code",
   "execution_count": null,
   "metadata": {},
   "outputs": [],
   "source": [
    "s = 'radkar'\n",
    "def pali_test (txt):\n",
    "    if txt == txt[::-1]:\n",
    "        print(\"Is Pali\")\n",
    "    else:\n",
    "        print(\"Not Pali\")\n",
    "pali_test(s)"
   ]
  },
  {
   "source": [
    "## PALINDROME BY REMOVING ONE CHAR"
   ],
   "cell_type": "markdown",
   "metadata": {}
  },
  {
   "cell_type": "code",
   "execution_count": null,
   "metadata": {},
   "outputs": [],
   "source": [
    "def is_pali_remov(s):\n",
    "    for i in range(len(s)):\n",
    "        var = s[:i]+s[i+1:len(s)]\n",
    "        if var == var[::-1]:\n",
    "            return True\n",
    "is_pali_remov(s)"
   ]
  },
  {
   "source": [
    "# IS SEQUENCE?"
   ],
   "cell_type": "markdown",
   "metadata": {}
  },
  {
   "cell_type": "code",
   "execution_count": null,
   "metadata": {},
   "outputs": [],
   "source": [
    "a = [1,2,3,4,5]\n",
    "b = [5,4,3,2,1,5]"
   ]
  },
  {
   "cell_type": "code",
   "execution_count": null,
   "metadata": {},
   "outputs": [],
   "source": [
    "def is_sequence (a):\n",
    "    if all([a[i] <= a[i+1] for i in range(len(a)-1)]) == True or all([a[i] >= a[i+1] for i in range(len(a)-1)]) == True:\n",
    "        return True\n",
    "    else:\n",
    "        return False\n",
    "is_sequence(b)"
   ]
  },
  {
   "source": [
    "# SEND ZEROS TO END OF LIST"
   ],
   "cell_type": "markdown",
   "metadata": {}
  },
  {
   "cell_type": "code",
   "execution_count": null,
   "metadata": {},
   "outputs": [],
   "source": [
    "lst = [0,2,3,0,5,6]"
   ]
  },
  {
   "cell_type": "code",
   "execution_count": null,
   "metadata": {},
   "outputs": [],
   "source": [
    "for i in lst:\n",
    "    if i == 0:\n",
    "        lst.remove(i)\n",
    "        lst.append(0)\n",
    "    else:\n",
    "        continue\n",
    "lst"
   ]
  },
  {
   "source": [
    "# FIND WORDS THAT ARE IN BOTH LISTS"
   ],
   "cell_type": "markdown",
   "metadata": {}
  },
  {
   "cell_type": "code",
   "execution_count": null,
   "metadata": {},
   "outputs": [],
   "source": [
    "sentence1 = 'We are really pleased to meet you in our city'\n",
    "sentence2 = 'The city was hit by a really heavy storm'\n",
    "\n",
    "def words_in_both(s1, s2):\n",
    "    s1 = set(s1.split())\n",
    "    s2 = set(s2.split())\n",
    "    return list(s1&s2)\n",
    "\n",
    "words_in_both(sentence1,sentence2)"
   ]
  },
  {
   "source": [
    "# PRIME NUMS"
   ],
   "cell_type": "markdown",
   "metadata": {}
  },
  {
   "cell_type": "code",
   "execution_count": null,
   "metadata": {},
   "outputs": [],
   "source": [
    " def prime_nums_(n): \n",
    "    prime = []\n",
    "    for num in range(n):\n",
    "        if num > 1:\n",
    "            if (num % 2) == 0:\n",
    "                continue\n",
    "            else: \n",
    "                prime.append(num)\n",
    "    return prime"
   ]
  },
  {
   "cell_type": "code",
   "execution_count": null,
   "metadata": {},
   "outputs": [],
   "source": [
    "prime_nums_(30)"
   ]
  },
  {
   "source": [
    "# LEAP YEAR\n",
    "A year is leap when:  \n",
    "* Is Leap when year is divisible by 4,400 and 100;\n",
    "* Is Leap is divisible by 4 but not by 100;\n",
    "* else is no Leap;\n"
   ],
   "cell_type": "markdown",
   "metadata": {}
  },
  {
   "cell_type": "code",
   "execution_count": null,
   "metadata": {},
   "outputs": [],
   "source": [
    "def is_leap(year):\n",
    "    if year % 4 == 0 and year %100 == 0 and year % 400 == 0:        \n",
    "        leap = True\n",
    "    elif year % 4 == 0 and year %100 != 0:\n",
    "        leap = True  \n",
    "    else:\n",
    "        leap = False\n",
    "    return leap\n",
    "\n",
    "print(is_leap(2400))"
   ]
  },
  {
   "source": [
    "# FIND PAIRS OF NUMBERS IN A LIST"
   ],
   "cell_type": "markdown",
   "metadata": {}
  },
  {
   "cell_type": "code",
   "execution_count": null,
   "metadata": {},
   "outputs": [],
   "source": [
    "s = [1,1,1,1,2,3,3,4]"
   ]
  },
  {
   "cell_type": "code",
   "execution_count": null,
   "metadata": {},
   "outputs": [],
   "source": [
    "def count_pairs(list_):\n",
    "    pairs = []\n",
    "    for i in list(set(list_)):\n",
    "        pairs.append(list_.count(i)//2)\n",
    "    return sum(pairs)"
   ]
  },
  {
   "cell_type": "code",
   "execution_count": null,
   "metadata": {},
   "outputs": [],
   "source": [
    "count_pairs(s)"
   ]
  },
  {
   "source": [
    "# FIND MAXIMUM SEQUENCE OF 1'S IN A BINARY"
   ],
   "cell_type": "markdown",
   "metadata": {}
  },
  {
   "cell_type": "code",
   "execution_count": null,
   "metadata": {},
   "outputs": [],
   "source": [
    "x = bin(4321698419)[2:]\n",
    "print(x)"
   ]
  },
  {
   "cell_type": "code",
   "execution_count": null,
   "metadata": {},
   "outputs": [],
   "source": [
    "def one_sequence(x):\n",
    "    sequences = []\n",
    "    counter = 0\n",
    "    for i in (x):\n",
    "        if i == '1':\n",
    "            counter += 1\n",
    "        else:\n",
    "            sequences.append(counter)\n",
    "            counter = 0\n",
    "    return max(sequences)"
   ]
  },
  {
   "cell_type": "code",
   "execution_count": null,
   "metadata": {},
   "outputs": [],
   "source": [
    "one_sequence(x)"
   ]
  },
  {
   "source": [
    "# HOW MANY TIMES A SEQUENCE IS INSIDE A STRING"
   ],
   "cell_type": "markdown",
   "metadata": {}
  },
  {
   "cell_type": "code",
   "execution_count": null,
   "metadata": {},
   "outputs": [],
   "source": [
    "string = 'fxaazxacaaxzoecazxacccxacccc'\n",
    "substring = 'xac'\n",
    "\n",
    "def sub_in_string(s,ss):\n",
    "    l_s = len(s)\n",
    "    counter = 0\n",
    "    for i in range(0,l_s):\n",
    "        if s[0+i:len(ss)+i] == ss:\n",
    "            counter += 1\n",
    "    return counter\n",
    "\n",
    "sub_in_string(string,substring)"
   ]
  },
  {
   "source": [
    "# CAPITALIZE ALL WORDS IN A STRING"
   ],
   "cell_type": "markdown",
   "metadata": {}
  },
  {
   "cell_type": "code",
   "execution_count": null,
   "metadata": {},
   "outputs": [],
   "source": [
    "string = \"cassio bolba\"\n",
    "\n",
    "def capitalize_all(s):\n",
    "    for i in s.split():\n",
    "        print(i.capitalize(),end=\" \")"
   ]
  },
  {
   "cell_type": "code",
   "execution_count": null,
   "metadata": {},
   "outputs": [],
   "source": [
    "capitalize_all(string)"
   ]
  },
  {
   "source": [
    "# PRINT WITH CENTER, RJUST AND LJUST"
   ],
   "cell_type": "markdown",
   "metadata": {}
  },
  {
   "cell_type": "code",
   "execution_count": null,
   "metadata": {},
   "outputs": [],
   "source": [
    "thickness = 5\n",
    "c = 'H'\n",
    "\n",
    "#Top Cone\n",
    "for i in range(thickness):\n",
    "    print((c*i).rjust(thickness-1)+c+(c*i).ljust(thickness-1))\n",
    "\n",
    "#Top Pillars\n",
    "for i in range(thickness+1):\n",
    "    print((c*thickness).center(thickness*2)+(c*thickness).center(thickness*6))\n",
    "\n",
    "#Middle Belt\n",
    "for i in range((thickness+1)//2):\n",
    "    print((c*thickness*5).center(thickness*6)) \n",
    "\n",
    "#Bottom Pillars\n",
    "for i in range(thickness+1):\n",
    "    print((c*thickness).center(thickness*2)+(c*thickness).center(thickness*6)) \n",
    "\n",
    "#Bottom Cone\n",
    "for i in range(thickness):\n",
    "    print(((c*(thickness-i-1)).rjust(thickness)+c+(c*(thickness-i-1)).ljust(thickness)).rjust(thickness*6))"
   ]
  },
  {
   "source": [
    "# SPLIT BY MAX WIDTH AND PRINT WITH \\n"
   ],
   "cell_type": "markdown",
   "metadata": {}
  },
  {
   "cell_type": "code",
   "execution_count": null,
   "metadata": {},
   "outputs": [],
   "source": [
    "string = 'ABCDEFGHIJKLIMNOQRSTUVWXYZ'\n",
    "wid = 4"
   ]
  },
  {
   "source": [
    "# MINHA SOLUÇÃO\n",
    "import future\n",
    "def wrap(string, max_width):\n",
    "    count_i = 0\n",
    "    count_f = max_width\n",
    "    n_list = []\n",
    "    for i in range (int(len(string)/max_width)+1):\n",
    "        splite = string[count_i:count_f]+'\\n'\n",
    "        n_list.append(splite)\n",
    "        count_i += max_width\n",
    "        count_f += max_width\n",
    "    return \"\".join(n_list)\n",
    "\n",
    "wrap(string,wid)"
   ],
   "cell_type": "code",
   "metadata": {},
   "execution_count": null,
   "outputs": []
  },
  {
   "cell_type": "code",
   "execution_count": null,
   "metadata": {},
   "outputs": [],
   "source": [
    "# SOLUÇÃO HACKER RANK   \n",
    "def wrap(string, max_width):\n",
    "    s = \"\"\n",
    "    for c in range(0,len(string),max_width):\n",
    "        s += string[c:c+max_width] + \"\\n\"\n",
    "    return print(s)\n",
    "wrap(string,wid)"
   ]
  },
  {
   "source": [
    "# PRINT DEC, HEX, BIN, OCT, ALIGNED BY THE BIGGEST BIN"
   ],
   "cell_type": "markdown",
   "metadata": {}
  },
  {
   "cell_type": "code",
   "execution_count": null,
   "metadata": {},
   "outputs": [],
   "source": [
    "results = []\n",
    "for i in range(1, n+1):\n",
    "    decimal = str(i)\n",
    "    octal = str(oct(i)[2:])\n",
    "    hex_ = str(hex(i)[2:]).upper()\n",
    "    binary = str(bin(i)[2:])\n",
    "    results.append([decimal, octal, hex_, binary])\n",
    "width = len(results[-1][3])  # largest binary number\n",
    "print(width)\n",
    "for i in results:\n",
    "    print(*(rep.rjust(width) for rep in i))"
   ]
  },
  {
   "source": [
    "# ITER TOOLS - PRODUCT"
   ],
   "cell_type": "markdown",
   "metadata": {}
  },
  {
   "cell_type": "code",
   "execution_count": 8,
   "metadata": {},
   "outputs": [
    {
     "output_type": "stream",
     "name": "stdout",
     "text": [
      "[(1, 1), (1, 2), (1, 3), (2, 1), (2, 2), (2, 3), (3, 1), (3, 2), (3, 3)]\n[(1, 3), (1, 4), (1, 5), (2, 3), (2, 4), (2, 5), (3, 3), (3, 4), (3, 5)]\n"
     ]
    }
   ],
   "source": [
    "from itertools import product\n",
    "print(list(product([1,2,3],repeat = 2)))\n",
    "A = [[1,2,3],[3,4,5]]\n",
    "print(list(product(*A)))\n"
   ]
  },
  {
   "cell_type": "code",
   "execution_count": 7,
   "metadata": {},
   "outputs": [
    {
     "output_type": "stream",
     "name": "stdout",
     "text": [
      "[1, 2]\n"
     ]
    }
   ],
   "source": [
    "a = '1 2'\n",
    "b = '3 4'\n",
    "a = list(map(int, a.split()))\n",
    "b = list(map(int, b.split()))"
   ]
  },
  {
   "cell_type": "code",
   "execution_count": 14,
   "metadata": {},
   "outputs": [
    {
     "output_type": "stream",
     "name": "stdout",
     "text": [
      "(1, 3) (1, 4) (2, 3) (2, 4)\n"
     ]
    }
   ],
   "source": [
    "print(*(product(a,b)))"
   ]
  },
  {
   "source": [
    "# ITER TOOLS - PERMUTATIONS"
   ],
   "cell_type": "markdown",
   "metadata": {}
  },
  {
   "cell_type": "code",
   "execution_count": null,
   "metadata": {},
   "outputs": [],
   "source": []
  },
  {
   "cell_type": "code",
   "execution_count": 15,
   "metadata": {},
   "outputs": [
    {
     "output_type": "stream",
     "name": "stdout",
     "text": [
      "AC\nAH\nAK\nCA\nCH\nCK\nHA\nHC\nHK\nKA\nKC\nKH\n"
     ]
    }
   ],
   "source": [
    "from itertools import permutations\n",
    "\n",
    "string = 'HACK 2'.split()\n",
    "a = string[0]\n",
    "b = int(string[1])\n",
    "\n",
    "\n",
    "for i in sorted(list(permutations(a,b))):\n",
    "    c = ''\n",
    "    for j in range(0,b):\n",
    "        c = c+i[j]\n",
    "    print(c)\n",
    "    c = ''"
   ]
  },
  {
   "source": [
    "# SET"
   ],
   "cell_type": "markdown",
   "metadata": {}
  },
  {
   "cell_type": "code",
   "execution_count": 1,
   "metadata": {},
   "outputs": [],
   "source": [
    "n = 10\n",
    "arr = [161, 182, 161, 154, 176, 170, 167, 171, 170, 174]"
   ]
  },
  {
   "cell_type": "code",
   "execution_count": 15,
   "metadata": {},
   "outputs": [
    {
     "output_type": "stream",
     "name": "stdout",
     "text": [
      "169.375\n"
     ]
    }
   ],
   "source": [
    "print(sum(set(arr))/len(set(arr)))"
   ]
  },
  {
   "source": [
    "# ITER TOOLS - COMBINATIONS()"
   ],
   "cell_type": "markdown",
   "metadata": {}
  },
  {
   "cell_type": "code",
   "execution_count": 77,
   "metadata": {},
   "outputs": [
    {
     "output_type": "stream",
     "name": "stdout",
     "text": [
      "A\nC\nH\nK\nAC\nAH\nAK\nCH\nCK\nHK\n"
     ]
    }
   ],
   "source": [
    "input = 'HACK 2'\n",
    "a = input.split()[0]\n",
    "b = int(input.split()[1])\n",
    "#a , b = input().split()\n",
    "\n",
    "from itertools import combinations\n",
    "\n",
    "for i in range(1,int(b)+1):\n",
    "    for j in (list(combinations(sorted(a),i))):\n",
    "        print(''.join(j))"
   ]
  },
  {
   "source": [
    "# REGEX + SPLIT"
   ],
   "cell_type": "markdown",
   "metadata": {}
  },
  {
   "cell_type": "code",
   "execution_count": 1,
   "metadata": {},
   "outputs": [
    {
     "output_type": "stream",
     "name": "stdout",
     "text": [
      "100\n000\n000\n00\n"
     ]
    }
   ],
   "source": [
    "inp = '100.000.000,00'\n",
    "\n",
    "regex_pattern = r\"[^0-9a-zA-Z]+\"\t# REMOVE ALL SPECIAL CHARACTER\n",
    "\n",
    "import re\n",
    "print(\"\\n\".join(re.split(regex_pattern, inp)))"
   ]
  },
  {
   "source": [
    "# UUID VALIDADOR PROGRAM"
   ],
   "cell_type": "markdown",
   "metadata": {}
  },
  {
   "cell_type": "code",
   "execution_count": null,
   "metadata": {},
   "outputs": [],
   "source": [
    "import re\n",
    "import collections\n",
    "\n",
    "n = int(input())\n",
    "uids = []\n",
    "\n",
    "for i in range (n):\n",
    "    uids.append(input())\n",
    "\n",
    "def regex_val (inp):\n",
    "   regex_pattern = r\"[^0-9a-zA-Z]+\" \n",
    "   if inp == \"\".join(re.split(regex_pattern,inp)):\n",
    "    return True\n",
    "\n",
    "def upper_val(inp):\n",
    "    upper_count = 0\n",
    "    for i in inp:\n",
    "        if i.isupper() == True:\n",
    "            upper_count += 1\n",
    "    return upper_count  \n",
    "\n",
    "def num_val(inp):\n",
    "    num_count = 0\n",
    "    for i in inp:\n",
    "        if i.isnumeric() == True:\n",
    "            num_count += 1\n",
    "    return num_count\n",
    "    \n",
    "\n",
    "def repeating_val(inp):\n",
    "    count = collections.Counter(inp) \n",
    "    count_rep = None\n",
    "    for k, v in enumerate(inp):\n",
    "        if count[v] > 1:\n",
    "            count_rep = True\n",
    "    return count_rep\n",
    "    \n",
    "for i in uids:\n",
    "    if len(i) == 10:\n",
    "        if regex_val(i) == True:\n",
    "            if upper_val(i) >= 2:\n",
    "                if num_val(i) >= 3:\n",
    "                    if repeating_val(i) == None:\n",
    "                        print('Valid')\n",
    "                    else:\n",
    "                        print('Invalid')\n",
    "                else:\n",
    "                    print('Invalid')\n",
    "            else:\n",
    "                print('Invalid')\n",
    "        else:\n",
    "            print('Invalid')\n",
    "    else:\n",
    "        print('Invalid')"
   ]
  }
 ]
}